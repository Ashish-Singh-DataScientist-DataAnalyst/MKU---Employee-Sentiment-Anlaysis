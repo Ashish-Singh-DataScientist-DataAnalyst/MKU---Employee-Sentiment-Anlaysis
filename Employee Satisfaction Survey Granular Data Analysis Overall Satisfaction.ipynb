{
 "cells": [
  {
   "cell_type": "code",
   "execution_count": 3,
   "id": "f70c011e",
   "metadata": {},
   "outputs": [],
   "source": [
    "import pandas as pd\n",
    "import numpy as np\n",
    "import matplotlib.pyplot as plt\n",
    "import seaborn as sns\n",
    "\n",
    "%matplotlib inline\n",
    "sns.set_style('ticks')\n",
    "\n",
    "import warnings\n",
    "warnings.filterwarnings('ignore')"
   ]
  },
  {
   "cell_type": "code",
   "execution_count": 4,
   "id": "d2a33619",
   "metadata": {},
   "outputs": [],
   "source": [
    "df = pd.read_excel('Work Book.xlsx')"
   ]
  },
  {
   "cell_type": "code",
   "execution_count": 5,
   "id": "596c4daf",
   "metadata": {
    "scrolled": false
   },
   "outputs": [
    {
     "data": {
      "text/html": [
       "<div>\n",
       "<style scoped>\n",
       "    .dataframe tbody tr th:only-of-type {\n",
       "        vertical-align: middle;\n",
       "    }\n",
       "\n",
       "    .dataframe tbody tr th {\n",
       "        vertical-align: top;\n",
       "    }\n",
       "\n",
       "    .dataframe thead th {\n",
       "        text-align: right;\n",
       "    }\n",
       "</style>\n",
       "<table border=\"1\" class=\"dataframe\">\n",
       "  <thead>\n",
       "    <tr style=\"text-align: right;\">\n",
       "      <th></th>\n",
       "      <th>S.No</th>\n",
       "      <th>Name Coding</th>\n",
       "      <th>Designation Coding</th>\n",
       "      <th>Department Coding</th>\n",
       "      <th>How long have you worked for this organization?</th>\n",
       "      <th>What is your age?</th>\n",
       "      <th>Organization Leadership &amp; Planning</th>\n",
       "      <th>Unnamed: 7</th>\n",
       "      <th>Unnamed: 8</th>\n",
       "      <th>Unnamed: 9</th>\n",
       "      <th>...</th>\n",
       "      <th>Unnamed: 65</th>\n",
       "      <th>Employee Engagement</th>\n",
       "      <th>Unnamed: 67</th>\n",
       "      <th>Unnamed: 68</th>\n",
       "      <th>Unnamed: 69</th>\n",
       "      <th>Unnamed: 70</th>\n",
       "      <th>Unnamed: 71</th>\n",
       "      <th>Unnamed: 72</th>\n",
       "      <th>Unnamed: 73</th>\n",
       "      <th>Over all I am very satisfied with my Organization?</th>\n",
       "    </tr>\n",
       "  </thead>\n",
       "  <tbody>\n",
       "    <tr>\n",
       "      <th>0</th>\n",
       "      <td>NaN</td>\n",
       "      <td>NaN</td>\n",
       "      <td>NaN</td>\n",
       "      <td>NaN</td>\n",
       "      <td>NaN</td>\n",
       "      <td>NaN</td>\n",
       "      <td>I understand the long-term strategy of this or...</td>\n",
       "      <td>I have confidence in the leadership of this or...</td>\n",
       "      <td>The leaders of this organization care about th...</td>\n",
       "      <td>Senior leaders live the core values of the org...</td>\n",
       "      <td>...</td>\n",
       "      <td>Overall, I'm satisfied with the retirement pla...</td>\n",
       "      <td>Most days, I look forward to going to work?</td>\n",
       "      <td>My job provides me with a sense of meaning and...</td>\n",
       "      <td>I am proud to work for this organization</td>\n",
       "      <td>I feel this organization has created an enviro...</td>\n",
       "      <td>I am willing to give extra effort to help this...</td>\n",
       "      <td>I plan to continue my career with this organiz...</td>\n",
       "      <td>I would recommend this organization’s products...</td>\n",
       "      <td>I would recommend working here to a friend</td>\n",
       "      <td>NaN</td>\n",
       "    </tr>\n",
       "    <tr>\n",
       "      <th>1</th>\n",
       "      <td>1.0</td>\n",
       "      <td>1.0</td>\n",
       "      <td>A</td>\n",
       "      <td>ARD</td>\n",
       "      <td>3 Yrs to &gt;5 Yrs</td>\n",
       "      <td>36 - 45</td>\n",
       "      <td>Disagree Strongly</td>\n",
       "      <td>Somewhat Disagree</td>\n",
       "      <td>Disagree Strongly</td>\n",
       "      <td>Disagree Strongly</td>\n",
       "      <td>...</td>\n",
       "      <td>Neutral</td>\n",
       "      <td>Disagree Strongly</td>\n",
       "      <td>Agree Strongly</td>\n",
       "      <td>Disagree Strongly</td>\n",
       "      <td>Disagree Strongly</td>\n",
       "      <td>Disagree Strongly</td>\n",
       "      <td>Disagree Strongly</td>\n",
       "      <td>Disagree Strongly</td>\n",
       "      <td>Disagree Strongly</td>\n",
       "      <td>Disagree Strongly</td>\n",
       "    </tr>\n",
       "    <tr>\n",
       "      <th>2</th>\n",
       "      <td>2.0</td>\n",
       "      <td>2.0</td>\n",
       "      <td>A</td>\n",
       "      <td>AO</td>\n",
       "      <td>&lt;=10 Years</td>\n",
       "      <td>46 - 55</td>\n",
       "      <td>Agree Strongly</td>\n",
       "      <td>Agree Strongly</td>\n",
       "      <td>Agree Strongly</td>\n",
       "      <td>Agree Strongly</td>\n",
       "      <td>...</td>\n",
       "      <td>Neutral</td>\n",
       "      <td>Agree Strongly</td>\n",
       "      <td>Agree Strongly</td>\n",
       "      <td>Agree Strongly</td>\n",
       "      <td>Agree Strongly</td>\n",
       "      <td>Agree Strongly</td>\n",
       "      <td>Agree Strongly</td>\n",
       "      <td>Agree Strongly</td>\n",
       "      <td>Agree Strongly</td>\n",
       "      <td>Agree Strongly</td>\n",
       "    </tr>\n",
       "    <tr>\n",
       "      <th>3</th>\n",
       "      <td>3.0</td>\n",
       "      <td>3.0</td>\n",
       "      <td>A</td>\n",
       "      <td>ARD</td>\n",
       "      <td>&gt;1 Yr</td>\n",
       "      <td>26 - 35</td>\n",
       "      <td>Agree Strongly</td>\n",
       "      <td>Agree Strongly</td>\n",
       "      <td>Agree Strongly</td>\n",
       "      <td>Agree Strongly</td>\n",
       "      <td>...</td>\n",
       "      <td>Neutral</td>\n",
       "      <td>Neutral</td>\n",
       "      <td>Agree Strongly</td>\n",
       "      <td>Agree Strongly</td>\n",
       "      <td>Neutral</td>\n",
       "      <td>Agree Somewhat</td>\n",
       "      <td>Agree Strongly</td>\n",
       "      <td>Agree Strongly</td>\n",
       "      <td>Agree Strongly</td>\n",
       "      <td>Agree Strongly</td>\n",
       "    </tr>\n",
       "    <tr>\n",
       "      <th>4</th>\n",
       "      <td>4.0</td>\n",
       "      <td>4.0</td>\n",
       "      <td>B</td>\n",
       "      <td>SS</td>\n",
       "      <td>&gt;1 Yr</td>\n",
       "      <td>26 - 35</td>\n",
       "      <td>Agree Somewhat</td>\n",
       "      <td>Agree Strongly</td>\n",
       "      <td>Agree Strongly</td>\n",
       "      <td>Agree Strongly</td>\n",
       "      <td>...</td>\n",
       "      <td>Agree Somewhat</td>\n",
       "      <td>Agree Strongly</td>\n",
       "      <td>Agree Strongly</td>\n",
       "      <td>Agree Strongly</td>\n",
       "      <td>Agree Strongly</td>\n",
       "      <td>Agree Strongly</td>\n",
       "      <td>Neutral</td>\n",
       "      <td>Agree Strongly</td>\n",
       "      <td>Agree Strongly</td>\n",
       "      <td>Agree Strongly</td>\n",
       "    </tr>\n",
       "    <tr>\n",
       "      <th>5</th>\n",
       "      <td>5.0</td>\n",
       "      <td>5.0</td>\n",
       "      <td>B</td>\n",
       "      <td>IS</td>\n",
       "      <td>&gt;1 Yr</td>\n",
       "      <td>26 - 35</td>\n",
       "      <td>Neutral</td>\n",
       "      <td>Agree Strongly</td>\n",
       "      <td>Neutral</td>\n",
       "      <td>Agree Strongly</td>\n",
       "      <td>...</td>\n",
       "      <td>Neutral</td>\n",
       "      <td>Neutral</td>\n",
       "      <td>Neutral</td>\n",
       "      <td>Neutral</td>\n",
       "      <td>Agree Somewhat</td>\n",
       "      <td>Agree Strongly</td>\n",
       "      <td>Agree Somewhat</td>\n",
       "      <td>Agree Somewhat</td>\n",
       "      <td>Agree Somewhat</td>\n",
       "      <td>Agree Somewhat</td>\n",
       "    </tr>\n",
       "    <tr>\n",
       "      <th>6</th>\n",
       "      <td>6.0</td>\n",
       "      <td>6.0</td>\n",
       "      <td>B</td>\n",
       "      <td>DS</td>\n",
       "      <td>&lt;=10 Years</td>\n",
       "      <td>46 - 55</td>\n",
       "      <td>Neutral</td>\n",
       "      <td>Agree Strongly</td>\n",
       "      <td>Somewhat Disagree</td>\n",
       "      <td>Agree Strongly</td>\n",
       "      <td>...</td>\n",
       "      <td>Neutral</td>\n",
       "      <td>Agree Somewhat</td>\n",
       "      <td>Agree Strongly</td>\n",
       "      <td>Agree Strongly</td>\n",
       "      <td>Agree Somewhat</td>\n",
       "      <td>Agree Strongly</td>\n",
       "      <td>Agree Strongly</td>\n",
       "      <td>Agree Strongly</td>\n",
       "      <td>Agree Somewhat</td>\n",
       "      <td>Agree Somewhat</td>\n",
       "    </tr>\n",
       "  </tbody>\n",
       "</table>\n",
       "<p>7 rows × 75 columns</p>\n",
       "</div>"
      ],
      "text/plain": [
       "   S.No  Name Coding Designation Coding Department Coding  \\\n",
       "0   NaN          NaN                NaN               NaN   \n",
       "1   1.0          1.0                  A               ARD   \n",
       "2   2.0          2.0                  A                AO   \n",
       "3   3.0          3.0                  A               ARD   \n",
       "4   4.0          4.0                  B                SS   \n",
       "5   5.0          5.0                  B                IS   \n",
       "6   6.0          6.0                  B                DS   \n",
       "\n",
       "  How long have you worked for this organization? What is your age?  \\\n",
       "0                                             NaN               NaN   \n",
       "1                                 3 Yrs to >5 Yrs           36 - 45   \n",
       "2                                      <=10 Years          46 - 55    \n",
       "3                                           >1 Yr           26 - 35   \n",
       "4                                           >1 Yr           26 - 35   \n",
       "5                                           >1 Yr           26 - 35   \n",
       "6                                      <=10 Years          46 - 55    \n",
       "\n",
       "                  Organization Leadership & Planning  \\\n",
       "0  I understand the long-term strategy of this or...   \n",
       "1                                  Disagree Strongly   \n",
       "2                                     Agree Strongly   \n",
       "3                                     Agree Strongly   \n",
       "4                                     Agree Somewhat   \n",
       "5                                            Neutral   \n",
       "6                                            Neutral   \n",
       "\n",
       "                                          Unnamed: 7  \\\n",
       "0  I have confidence in the leadership of this or...   \n",
       "1                                  Somewhat Disagree   \n",
       "2                                     Agree Strongly   \n",
       "3                                     Agree Strongly   \n",
       "4                                     Agree Strongly   \n",
       "5                                     Agree Strongly   \n",
       "6                                     Agree Strongly   \n",
       "\n",
       "                                          Unnamed: 8  \\\n",
       "0  The leaders of this organization care about th...   \n",
       "1                                  Disagree Strongly   \n",
       "2                                     Agree Strongly   \n",
       "3                                     Agree Strongly   \n",
       "4                                     Agree Strongly   \n",
       "5                                            Neutral   \n",
       "6                                  Somewhat Disagree   \n",
       "\n",
       "                                          Unnamed: 9  ...  \\\n",
       "0  Senior leaders live the core values of the org...  ...   \n",
       "1                                  Disagree Strongly  ...   \n",
       "2                                     Agree Strongly  ...   \n",
       "3                                     Agree Strongly  ...   \n",
       "4                                     Agree Strongly  ...   \n",
       "5                                     Agree Strongly  ...   \n",
       "6                                     Agree Strongly  ...   \n",
       "\n",
       "                                         Unnamed: 65  \\\n",
       "0  Overall, I'm satisfied with the retirement pla...   \n",
       "1                                            Neutral   \n",
       "2                                            Neutral   \n",
       "3                                            Neutral   \n",
       "4                                     Agree Somewhat   \n",
       "5                                            Neutral   \n",
       "6                                            Neutral   \n",
       "\n",
       "                           Employee Engagement  \\\n",
       "0  Most days, I look forward to going to work?   \n",
       "1                            Disagree Strongly   \n",
       "2                               Agree Strongly   \n",
       "3                                      Neutral   \n",
       "4                               Agree Strongly   \n",
       "5                                      Neutral   \n",
       "6                               Agree Somewhat   \n",
       "\n",
       "                                         Unnamed: 67  \\\n",
       "0  My job provides me with a sense of meaning and...   \n",
       "1                                     Agree Strongly   \n",
       "2                                     Agree Strongly   \n",
       "3                                     Agree Strongly   \n",
       "4                                     Agree Strongly   \n",
       "5                                            Neutral   \n",
       "6                                     Agree Strongly   \n",
       "\n",
       "                                Unnamed: 68  \\\n",
       "0  I am proud to work for this organization   \n",
       "1                         Disagree Strongly   \n",
       "2                            Agree Strongly   \n",
       "3                            Agree Strongly   \n",
       "4                            Agree Strongly   \n",
       "5                                   Neutral   \n",
       "6                            Agree Strongly   \n",
       "\n",
       "                                         Unnamed: 69  \\\n",
       "0  I feel this organization has created an enviro...   \n",
       "1                                  Disagree Strongly   \n",
       "2                                     Agree Strongly   \n",
       "3                                            Neutral   \n",
       "4                                     Agree Strongly   \n",
       "5                                     Agree Somewhat   \n",
       "6                                     Agree Somewhat   \n",
       "\n",
       "                                         Unnamed: 70  \\\n",
       "0  I am willing to give extra effort to help this...   \n",
       "1                                  Disagree Strongly   \n",
       "2                                     Agree Strongly   \n",
       "3                                     Agree Somewhat   \n",
       "4                                     Agree Strongly   \n",
       "5                                     Agree Strongly   \n",
       "6                                     Agree Strongly   \n",
       "\n",
       "                                         Unnamed: 71  \\\n",
       "0  I plan to continue my career with this organiz...   \n",
       "1                                  Disagree Strongly   \n",
       "2                                     Agree Strongly   \n",
       "3                                     Agree Strongly   \n",
       "4                                            Neutral   \n",
       "5                                     Agree Somewhat   \n",
       "6                                     Agree Strongly   \n",
       "\n",
       "                                         Unnamed: 72  \\\n",
       "0  I would recommend this organization’s products...   \n",
       "1                                  Disagree Strongly   \n",
       "2                                     Agree Strongly   \n",
       "3                                     Agree Strongly   \n",
       "4                                     Agree Strongly   \n",
       "5                                     Agree Somewhat   \n",
       "6                                     Agree Strongly   \n",
       "\n",
       "                                  Unnamed: 73  \\\n",
       "0  I would recommend working here to a friend   \n",
       "1                           Disagree Strongly   \n",
       "2                              Agree Strongly   \n",
       "3                              Agree Strongly   \n",
       "4                              Agree Strongly   \n",
       "5                              Agree Somewhat   \n",
       "6                              Agree Somewhat   \n",
       "\n",
       "  Over all I am very satisfied with my Organization?  \n",
       "0                                                NaN  \n",
       "1                                 Disagree Strongly   \n",
       "2                                    Agree Strongly   \n",
       "3                                    Agree Strongly   \n",
       "4                                    Agree Strongly   \n",
       "5                                    Agree Somewhat   \n",
       "6                                    Agree Somewhat   \n",
       "\n",
       "[7 rows x 75 columns]"
      ]
     },
     "execution_count": 5,
     "metadata": {},
     "output_type": "execute_result"
    }
   ],
   "source": [
    "df.head(7)"
   ]
  },
  {
   "cell_type": "markdown",
   "id": "c8af769d",
   "metadata": {},
   "source": [
    "# Cleaning and ETL "
   ]
  },
  {
   "cell_type": "code",
   "execution_count": null,
   "id": "34639aac",
   "metadata": {},
   "outputs": [],
   "source": []
  },
  {
   "cell_type": "code",
   "execution_count": 6,
   "id": "267daca3",
   "metadata": {},
   "outputs": [],
   "source": [
    "# Save it as headers, and then later we can access it via slices like a list\n",
    "headers = df.loc[0]"
   ]
  },
  {
   "cell_type": "code",
   "execution_count": 7,
   "id": "7db17f8b",
   "metadata": {},
   "outputs": [],
   "source": [
    "df = df.dropna()"
   ]
  },
  {
   "cell_type": "code",
   "execution_count": 8,
   "id": "0638b16a",
   "metadata": {},
   "outputs": [],
   "source": [
    "# .drop() defaults to axis=0, which refers to dropping items row-wise, mentioned the column which needs to be excluded\n",
    "\n",
    "df.drop(columns = ['S.No'], inplace=True)\n",
    "\n"
   ]
  },
  {
   "cell_type": "code",
   "execution_count": 9,
   "id": "d031922c",
   "metadata": {
    "scrolled": false
   },
   "outputs": [
    {
     "data": {
      "text/html": [
       "<div>\n",
       "<style scoped>\n",
       "    .dataframe tbody tr th:only-of-type {\n",
       "        vertical-align: middle;\n",
       "    }\n",
       "\n",
       "    .dataframe tbody tr th {\n",
       "        vertical-align: top;\n",
       "    }\n",
       "\n",
       "    .dataframe thead th {\n",
       "        text-align: right;\n",
       "    }\n",
       "</style>\n",
       "<table border=\"1\" class=\"dataframe\">\n",
       "  <thead>\n",
       "    <tr style=\"text-align: right;\">\n",
       "      <th></th>\n",
       "      <th>Name Coding</th>\n",
       "      <th>Designation Coding</th>\n",
       "      <th>Department Coding</th>\n",
       "      <th>How long have you worked for this organization?</th>\n",
       "      <th>What is your age?</th>\n",
       "      <th>Organization Leadership &amp; Planning</th>\n",
       "      <th>Unnamed: 7</th>\n",
       "      <th>Unnamed: 8</th>\n",
       "      <th>Unnamed: 9</th>\n",
       "      <th>Unnamed: 10</th>\n",
       "      <th>...</th>\n",
       "      <th>Unnamed: 65</th>\n",
       "      <th>Employee Engagement</th>\n",
       "      <th>Unnamed: 67</th>\n",
       "      <th>Unnamed: 68</th>\n",
       "      <th>Unnamed: 69</th>\n",
       "      <th>Unnamed: 70</th>\n",
       "      <th>Unnamed: 71</th>\n",
       "      <th>Unnamed: 72</th>\n",
       "      <th>Unnamed: 73</th>\n",
       "      <th>Over all I am very satisfied with my Organization?</th>\n",
       "    </tr>\n",
       "  </thead>\n",
       "  <tbody>\n",
       "    <tr>\n",
       "      <th>1</th>\n",
       "      <td>1.0</td>\n",
       "      <td>A</td>\n",
       "      <td>ARD</td>\n",
       "      <td>3 Yrs to &gt;5 Yrs</td>\n",
       "      <td>36 - 45</td>\n",
       "      <td>Disagree Strongly</td>\n",
       "      <td>Somewhat Disagree</td>\n",
       "      <td>Disagree Strongly</td>\n",
       "      <td>Disagree Strongly</td>\n",
       "      <td>Disagree Strongly</td>\n",
       "      <td>...</td>\n",
       "      <td>Neutral</td>\n",
       "      <td>Disagree Strongly</td>\n",
       "      <td>Agree Strongly</td>\n",
       "      <td>Disagree Strongly</td>\n",
       "      <td>Disagree Strongly</td>\n",
       "      <td>Disagree Strongly</td>\n",
       "      <td>Disagree Strongly</td>\n",
       "      <td>Disagree Strongly</td>\n",
       "      <td>Disagree Strongly</td>\n",
       "      <td>Disagree Strongly</td>\n",
       "    </tr>\n",
       "    <tr>\n",
       "      <th>2</th>\n",
       "      <td>2.0</td>\n",
       "      <td>A</td>\n",
       "      <td>AO</td>\n",
       "      <td>&lt;=10 Years</td>\n",
       "      <td>46 - 55</td>\n",
       "      <td>Agree Strongly</td>\n",
       "      <td>Agree Strongly</td>\n",
       "      <td>Agree Strongly</td>\n",
       "      <td>Agree Strongly</td>\n",
       "      <td>Agree Strongly</td>\n",
       "      <td>...</td>\n",
       "      <td>Neutral</td>\n",
       "      <td>Agree Strongly</td>\n",
       "      <td>Agree Strongly</td>\n",
       "      <td>Agree Strongly</td>\n",
       "      <td>Agree Strongly</td>\n",
       "      <td>Agree Strongly</td>\n",
       "      <td>Agree Strongly</td>\n",
       "      <td>Agree Strongly</td>\n",
       "      <td>Agree Strongly</td>\n",
       "      <td>Agree Strongly</td>\n",
       "    </tr>\n",
       "    <tr>\n",
       "      <th>3</th>\n",
       "      <td>3.0</td>\n",
       "      <td>A</td>\n",
       "      <td>ARD</td>\n",
       "      <td>&gt;1 Yr</td>\n",
       "      <td>26 - 35</td>\n",
       "      <td>Agree Strongly</td>\n",
       "      <td>Agree Strongly</td>\n",
       "      <td>Agree Strongly</td>\n",
       "      <td>Agree Strongly</td>\n",
       "      <td>Agree Strongly</td>\n",
       "      <td>...</td>\n",
       "      <td>Neutral</td>\n",
       "      <td>Neutral</td>\n",
       "      <td>Agree Strongly</td>\n",
       "      <td>Agree Strongly</td>\n",
       "      <td>Neutral</td>\n",
       "      <td>Agree Somewhat</td>\n",
       "      <td>Agree Strongly</td>\n",
       "      <td>Agree Strongly</td>\n",
       "      <td>Agree Strongly</td>\n",
       "      <td>Agree Strongly</td>\n",
       "    </tr>\n",
       "    <tr>\n",
       "      <th>4</th>\n",
       "      <td>4.0</td>\n",
       "      <td>B</td>\n",
       "      <td>SS</td>\n",
       "      <td>&gt;1 Yr</td>\n",
       "      <td>26 - 35</td>\n",
       "      <td>Agree Somewhat</td>\n",
       "      <td>Agree Strongly</td>\n",
       "      <td>Agree Strongly</td>\n",
       "      <td>Agree Strongly</td>\n",
       "      <td>Agree Strongly</td>\n",
       "      <td>...</td>\n",
       "      <td>Agree Somewhat</td>\n",
       "      <td>Agree Strongly</td>\n",
       "      <td>Agree Strongly</td>\n",
       "      <td>Agree Strongly</td>\n",
       "      <td>Agree Strongly</td>\n",
       "      <td>Agree Strongly</td>\n",
       "      <td>Neutral</td>\n",
       "      <td>Agree Strongly</td>\n",
       "      <td>Agree Strongly</td>\n",
       "      <td>Agree Strongly</td>\n",
       "    </tr>\n",
       "    <tr>\n",
       "      <th>5</th>\n",
       "      <td>5.0</td>\n",
       "      <td>B</td>\n",
       "      <td>IS</td>\n",
       "      <td>&gt;1 Yr</td>\n",
       "      <td>26 - 35</td>\n",
       "      <td>Neutral</td>\n",
       "      <td>Agree Strongly</td>\n",
       "      <td>Neutral</td>\n",
       "      <td>Agree Strongly</td>\n",
       "      <td>Somewhat Disagree</td>\n",
       "      <td>...</td>\n",
       "      <td>Neutral</td>\n",
       "      <td>Neutral</td>\n",
       "      <td>Neutral</td>\n",
       "      <td>Neutral</td>\n",
       "      <td>Agree Somewhat</td>\n",
       "      <td>Agree Strongly</td>\n",
       "      <td>Agree Somewhat</td>\n",
       "      <td>Agree Somewhat</td>\n",
       "      <td>Agree Somewhat</td>\n",
       "      <td>Agree Somewhat</td>\n",
       "    </tr>\n",
       "  </tbody>\n",
       "</table>\n",
       "<p>5 rows × 74 columns</p>\n",
       "</div>"
      ],
      "text/plain": [
       "   Name Coding Designation Coding Department Coding  \\\n",
       "1          1.0                  A               ARD   \n",
       "2          2.0                  A                AO   \n",
       "3          3.0                  A               ARD   \n",
       "4          4.0                  B                SS   \n",
       "5          5.0                  B                IS   \n",
       "\n",
       "  How long have you worked for this organization? What is your age?  \\\n",
       "1                                 3 Yrs to >5 Yrs           36 - 45   \n",
       "2                                      <=10 Years          46 - 55    \n",
       "3                                           >1 Yr           26 - 35   \n",
       "4                                           >1 Yr           26 - 35   \n",
       "5                                           >1 Yr           26 - 35   \n",
       "\n",
       "  Organization Leadership & Planning         Unnamed: 7         Unnamed: 8  \\\n",
       "1                  Disagree Strongly  Somewhat Disagree  Disagree Strongly   \n",
       "2                     Agree Strongly     Agree Strongly     Agree Strongly   \n",
       "3                     Agree Strongly     Agree Strongly     Agree Strongly   \n",
       "4                     Agree Somewhat     Agree Strongly     Agree Strongly   \n",
       "5                            Neutral     Agree Strongly            Neutral   \n",
       "\n",
       "          Unnamed: 9        Unnamed: 10  ...     Unnamed: 65  \\\n",
       "1  Disagree Strongly  Disagree Strongly  ...         Neutral   \n",
       "2     Agree Strongly     Agree Strongly  ...         Neutral   \n",
       "3     Agree Strongly     Agree Strongly  ...         Neutral   \n",
       "4     Agree Strongly     Agree Strongly  ...  Agree Somewhat   \n",
       "5     Agree Strongly  Somewhat Disagree  ...         Neutral   \n",
       "\n",
       "  Employee Engagement     Unnamed: 67        Unnamed: 68        Unnamed: 69  \\\n",
       "1   Disagree Strongly  Agree Strongly  Disagree Strongly  Disagree Strongly   \n",
       "2      Agree Strongly  Agree Strongly     Agree Strongly     Agree Strongly   \n",
       "3             Neutral  Agree Strongly     Agree Strongly            Neutral   \n",
       "4      Agree Strongly  Agree Strongly     Agree Strongly     Agree Strongly   \n",
       "5             Neutral         Neutral            Neutral     Agree Somewhat   \n",
       "\n",
       "         Unnamed: 70        Unnamed: 71        Unnamed: 72        Unnamed: 73  \\\n",
       "1  Disagree Strongly  Disagree Strongly  Disagree Strongly  Disagree Strongly   \n",
       "2     Agree Strongly     Agree Strongly     Agree Strongly     Agree Strongly   \n",
       "3     Agree Somewhat     Agree Strongly     Agree Strongly     Agree Strongly   \n",
       "4     Agree Strongly            Neutral     Agree Strongly     Agree Strongly   \n",
       "5     Agree Strongly     Agree Somewhat     Agree Somewhat     Agree Somewhat   \n",
       "\n",
       "  Over all I am very satisfied with my Organization?  \n",
       "1                                 Disagree Strongly   \n",
       "2                                    Agree Strongly   \n",
       "3                                    Agree Strongly   \n",
       "4                                    Agree Strongly   \n",
       "5                                    Agree Somewhat   \n",
       "\n",
       "[5 rows x 74 columns]"
      ]
     },
     "execution_count": 9,
     "metadata": {},
     "output_type": "execute_result"
    }
   ],
   "source": [
    "df.head()"
   ]
  },
  {
   "cell_type": "code",
   "execution_count": 10,
   "id": "a1efd029",
   "metadata": {},
   "outputs": [],
   "source": [
    "df[\"Name Coding\"] = df[\"Name Coding\"].astype(str)\n",
    "\n",
    "# Name Coding have every value unique individually.Hence, their is no use of making it a part of any clustur, category or group.\n",
    "# So,we'll be using the function called iterrowours() : up ahead to get a conspicous grap of the data.to have individually specific iterations.\n",
    "# for index, row in df.iterrows():\n",
    "#    print(index, row[0:137])"
   ]
  },
  {
   "cell_type": "code",
   "execution_count": 11,
   "id": "bf2ddd6a",
   "metadata": {},
   "outputs": [],
   "source": [
    "df[\"Designation Coding\"] = df[\"Designation Coding\"].astype(str)"
   ]
  },
  {
   "cell_type": "code",
   "execution_count": 12,
   "id": "93d4fb38",
   "metadata": {},
   "outputs": [],
   "source": [
    "df[\"Department Coding\"] = df[\"Department Coding\"].astype(str)"
   ]
  },
  {
   "cell_type": "code",
   "execution_count": 13,
   "id": "896b3aea",
   "metadata": {},
   "outputs": [],
   "source": [
    "df[\"How long have you worked for this organization?\"] = df[\"How long have you worked for this organization?\"].astype(str)"
   ]
  },
  {
   "cell_type": "code",
   "execution_count": 14,
   "id": "0aa89e11",
   "metadata": {},
   "outputs": [],
   "source": [
    "df[\"What is your age?\"] = df[\"What is your age?\"].astype(str)"
   ]
  },
  {
   "cell_type": "code",
   "execution_count": 15,
   "id": "33c250b6",
   "metadata": {},
   "outputs": [
    {
     "data": {
      "text/html": [
       "<div>\n",
       "<style scoped>\n",
       "    .dataframe tbody tr th:only-of-type {\n",
       "        vertical-align: middle;\n",
       "    }\n",
       "\n",
       "    .dataframe tbody tr th {\n",
       "        vertical-align: top;\n",
       "    }\n",
       "\n",
       "    .dataframe thead th {\n",
       "        text-align: right;\n",
       "    }\n",
       "</style>\n",
       "<table border=\"1\" class=\"dataframe\">\n",
       "  <thead>\n",
       "    <tr style=\"text-align: right;\">\n",
       "      <th></th>\n",
       "      <th>Name Coding</th>\n",
       "      <th>Designation Coding</th>\n",
       "      <th>Department Coding</th>\n",
       "      <th>How long have you worked for this organization?</th>\n",
       "      <th>What is your age?</th>\n",
       "      <th>Organization Leadership &amp; Planning</th>\n",
       "      <th>Unnamed: 7</th>\n",
       "      <th>Unnamed: 8</th>\n",
       "      <th>Unnamed: 9</th>\n",
       "      <th>Unnamed: 10</th>\n",
       "      <th>...</th>\n",
       "      <th>Unnamed: 65</th>\n",
       "      <th>Employee Engagement</th>\n",
       "      <th>Unnamed: 67</th>\n",
       "      <th>Unnamed: 68</th>\n",
       "      <th>Unnamed: 69</th>\n",
       "      <th>Unnamed: 70</th>\n",
       "      <th>Unnamed: 71</th>\n",
       "      <th>Unnamed: 72</th>\n",
       "      <th>Unnamed: 73</th>\n",
       "      <th>Over all I am very satisfied with my Organization?</th>\n",
       "    </tr>\n",
       "  </thead>\n",
       "  <tbody>\n",
       "    <tr>\n",
       "      <th>count</th>\n",
       "      <td>137</td>\n",
       "      <td>137</td>\n",
       "      <td>137</td>\n",
       "      <td>137</td>\n",
       "      <td>137</td>\n",
       "      <td>137</td>\n",
       "      <td>137</td>\n",
       "      <td>137</td>\n",
       "      <td>137</td>\n",
       "      <td>137</td>\n",
       "      <td>...</td>\n",
       "      <td>137</td>\n",
       "      <td>137</td>\n",
       "      <td>137</td>\n",
       "      <td>137</td>\n",
       "      <td>137</td>\n",
       "      <td>137</td>\n",
       "      <td>137</td>\n",
       "      <td>137</td>\n",
       "      <td>137</td>\n",
       "      <td>137</td>\n",
       "    </tr>\n",
       "    <tr>\n",
       "      <th>unique</th>\n",
       "      <td>137</td>\n",
       "      <td>4</td>\n",
       "      <td>10</td>\n",
       "      <td>5</td>\n",
       "      <td>8</td>\n",
       "      <td>6</td>\n",
       "      <td>6</td>\n",
       "      <td>6</td>\n",
       "      <td>6</td>\n",
       "      <td>6</td>\n",
       "      <td>...</td>\n",
       "      <td>6</td>\n",
       "      <td>6</td>\n",
       "      <td>6</td>\n",
       "      <td>6</td>\n",
       "      <td>6</td>\n",
       "      <td>5</td>\n",
       "      <td>6</td>\n",
       "      <td>5</td>\n",
       "      <td>6</td>\n",
       "      <td>7</td>\n",
       "    </tr>\n",
       "    <tr>\n",
       "      <th>top</th>\n",
       "      <td>1.0</td>\n",
       "      <td>B</td>\n",
       "      <td>AO</td>\n",
       "      <td>&gt;1 Yr</td>\n",
       "      <td>26 - 35</td>\n",
       "      <td>Agree Strongly</td>\n",
       "      <td>Agree Strongly</td>\n",
       "      <td>Agree Strongly</td>\n",
       "      <td>Agree Strongly</td>\n",
       "      <td>Agree Somewhat</td>\n",
       "      <td>...</td>\n",
       "      <td>Neutral</td>\n",
       "      <td>Agree Strongly</td>\n",
       "      <td>Agree Strongly</td>\n",
       "      <td>Agree Strongly</td>\n",
       "      <td>Agree Strongly</td>\n",
       "      <td>Agree Strongly</td>\n",
       "      <td>Agree Strongly</td>\n",
       "      <td>Agree Strongly</td>\n",
       "      <td>Agree Strongly</td>\n",
       "      <td>Agree Strongly</td>\n",
       "    </tr>\n",
       "    <tr>\n",
       "      <th>freq</th>\n",
       "      <td>1</td>\n",
       "      <td>58</td>\n",
       "      <td>21</td>\n",
       "      <td>40</td>\n",
       "      <td>67</td>\n",
       "      <td>56</td>\n",
       "      <td>71</td>\n",
       "      <td>49</td>\n",
       "      <td>59</td>\n",
       "      <td>50</td>\n",
       "      <td>...</td>\n",
       "      <td>73</td>\n",
       "      <td>72</td>\n",
       "      <td>69</td>\n",
       "      <td>86</td>\n",
       "      <td>53</td>\n",
       "      <td>107</td>\n",
       "      <td>67</td>\n",
       "      <td>74</td>\n",
       "      <td>60</td>\n",
       "      <td>52</td>\n",
       "    </tr>\n",
       "  </tbody>\n",
       "</table>\n",
       "<p>4 rows × 74 columns</p>\n",
       "</div>"
      ],
      "text/plain": [
       "       Name Coding Designation Coding Department Coding  \\\n",
       "count          137                137               137   \n",
       "unique         137                  4                10   \n",
       "top            1.0                  B                AO   \n",
       "freq             1                 58                21   \n",
       "\n",
       "       How long have you worked for this organization? What is your age?  \\\n",
       "count                                              137               137   \n",
       "unique                                               5                 8   \n",
       "top                                              >1 Yr           26 - 35   \n",
       "freq                                                40                67   \n",
       "\n",
       "       Organization Leadership & Planning      Unnamed: 7      Unnamed: 8  \\\n",
       "count                                 137             137             137   \n",
       "unique                                  6               6               6   \n",
       "top                        Agree Strongly  Agree Strongly  Agree Strongly   \n",
       "freq                                   56              71              49   \n",
       "\n",
       "            Unnamed: 9     Unnamed: 10  ... Unnamed: 65 Employee Engagement  \\\n",
       "count              137             137  ...         137                 137   \n",
       "unique               6               6  ...           6                   6   \n",
       "top     Agree Strongly  Agree Somewhat  ...     Neutral      Agree Strongly   \n",
       "freq                59              50  ...          73                  72   \n",
       "\n",
       "           Unnamed: 67     Unnamed: 68     Unnamed: 69     Unnamed: 70  \\\n",
       "count              137             137             137             137   \n",
       "unique               6               6               6               5   \n",
       "top     Agree Strongly  Agree Strongly  Agree Strongly  Agree Strongly   \n",
       "freq                69              86              53             107   \n",
       "\n",
       "           Unnamed: 71     Unnamed: 72     Unnamed: 73  \\\n",
       "count              137             137             137   \n",
       "unique               6               5               6   \n",
       "top     Agree Strongly  Agree Strongly  Agree Strongly   \n",
       "freq                67              74              60   \n",
       "\n",
       "       Over all I am very satisfied with my Organization?  \n",
       "count                                                 137  \n",
       "unique                                                  7  \n",
       "top                                       Agree Strongly   \n",
       "freq                                                   52  \n",
       "\n",
       "[4 rows x 74 columns]"
      ]
     },
     "execution_count": 15,
     "metadata": {},
     "output_type": "execute_result"
    }
   ],
   "source": [
    "df.describe()"
   ]
  },
  {
   "cell_type": "code",
   "execution_count": 16,
   "id": "ac5beda3",
   "metadata": {},
   "outputs": [
    {
     "name": "stdout",
     "output_type": "stream",
     "text": [
      "<class 'pandas.core.frame.DataFrame'>\n",
      "Int64Index: 137 entries, 1 to 137\n",
      "Data columns (total 74 columns):\n",
      " #   Column                                              Non-Null Count  Dtype \n",
      "---  ------                                              --------------  ----- \n",
      " 0   Name Coding                                         137 non-null    object\n",
      " 1   Designation Coding                                  137 non-null    object\n",
      " 2   Department Coding                                   137 non-null    object\n",
      " 3   How long have you worked for this organization?     137 non-null    object\n",
      " 4   What is your age?                                   137 non-null    object\n",
      " 5   Organization Leadership & Planning                  137 non-null    object\n",
      " 6   Unnamed: 7                                          137 non-null    object\n",
      " 7   Unnamed: 8                                          137 non-null    object\n",
      " 8   Unnamed: 9                                          137 non-null    object\n",
      " 9   Unnamed: 10                                         137 non-null    object\n",
      " 10  Unnamed: 11                                         137 non-null    object\n",
      " 11  Unnamed: 12                                         137 non-null    object\n",
      " 12  Organization Culture and Communication              137 non-null    object\n",
      " 13  Unnamed: 14                                         137 non-null    object\n",
      " 14  Unnamed: 15                                         137 non-null    object\n",
      " 15  Unnamed: 16                                         137 non-null    object\n",
      " 16  Unnamed: 17                                         137 non-null    object\n",
      " 17  Unnamed: 18                                         137 non-null    object\n",
      " 18  Unnamed: 19                                         137 non-null    object\n",
      " 19  Unnamed: 20                                         137 non-null    object\n",
      " 20  Unnamed: 21                                         137 non-null    object\n",
      " 21  Unnamed: 22                                         137 non-null    object\n",
      " 22  Unnamed: 23                                         137 non-null    object\n",
      " 23  Unnamed: 24                                         137 non-null    object\n",
      " 24  Unnamed: 25                                         137 non-null    object\n",
      " 25  Unnamed: 26                                         137 non-null    object\n",
      " 26  Your Role in the Organization                       137 non-null    object\n",
      " 27  Unnamed: 28                                         137 non-null    object\n",
      " 28  Unnamed: 29                                         137 non-null    object\n",
      " 29  Unnamed: 30                                         137 non-null    object\n",
      " 30  Unnamed: 31                                         137 non-null    object\n",
      " 31  Unnamed: 32                                         137 non-null    object\n",
      " 32  Unnamed: 33                                         137 non-null    object\n",
      " 33  Unnamed: 34                                         137 non-null    object\n",
      " 34  Unnamed: 35                                         137 non-null    object\n",
      " 35  Unnamed: 36                                         137 non-null    object\n",
      " 36  Unnamed: 37                                         137 non-null    object\n",
      " 37  Work Environment                                    137 non-null    object\n",
      " 38  Unnamed: 39                                         137 non-null    object\n",
      " 39  Unnamed: 40                                         137 non-null    object\n",
      " 40  Unnamed: 41                                         137 non-null    object\n",
      " 41  Unnamed: 42                                         137 non-null    object\n",
      " 42  Relationship is with Supervisor                     137 non-null    object\n",
      " 43  Unnamed: 44                                         137 non-null    object\n",
      " 44  Unnamed: 45                                         137 non-null    object\n",
      " 45  Unnamed: 46                                         137 non-null    object\n",
      " 46  Unnamed: 47                                         137 non-null    object\n",
      " 47  Unnamed: 48                                         137 non-null    object\n",
      " 48  Unnamed: 49                                         137 non-null    object\n",
      " 49  Unnamed: 50                                         137 non-null    object\n",
      " 50  Employee Development                                137 non-null    object\n",
      " 51  Unnamed: 52                                         137 non-null    object\n",
      " 52  Unnamed: 53                                         137 non-null    object\n",
      " 53  Unnamed: 54                                         137 non-null    object\n",
      " 54  Unnamed: 55                                         137 non-null    object\n",
      " 55  Unnamed: 56                                         137 non-null    object\n",
      " 56  Unnamed: 57                                         137 non-null    object\n",
      " 57  Unnamed: 58                                         137 non-null    object\n",
      " 58  Unnamed: 59                                         137 non-null    object\n",
      " 59  Unnamed: 60                                         137 non-null    object\n",
      " 60  Pay & Benefits                                      137 non-null    object\n",
      " 61  Unnamed: 62                                         137 non-null    object\n",
      " 62  Unnamed: 63                                         137 non-null    object\n",
      " 63  Unnamed: 64                                         137 non-null    object\n",
      " 64  Unnamed: 65                                         137 non-null    object\n",
      " 65  Employee Engagement                                 137 non-null    object\n",
      " 66  Unnamed: 67                                         137 non-null    object\n",
      " 67  Unnamed: 68                                         137 non-null    object\n",
      " 68  Unnamed: 69                                         137 non-null    object\n",
      " 69  Unnamed: 70                                         137 non-null    object\n",
      " 70  Unnamed: 71                                         137 non-null    object\n",
      " 71  Unnamed: 72                                         137 non-null    object\n",
      " 72  Unnamed: 73                                         137 non-null    object\n",
      " 73  Over all I am very satisfied with my Organization?  137 non-null    object\n",
      "dtypes: object(74)\n",
      "memory usage: 80.3+ KB\n"
     ]
    }
   ],
   "source": [
    "df.info()"
   ]
  },
  {
   "cell_type": "code",
   "execution_count": 17,
   "id": "5c50f84a",
   "metadata": {},
   "outputs": [
    {
     "data": {
      "text/plain": [
       "AO      21\n",
       "SS      20\n",
       "ARD     18\n",
       "FA      18\n",
       "IS      15\n",
       "SCM     14\n",
       "EOO     10\n",
       "EORD     9\n",
       "DS       8\n",
       "MKT      4\n",
       "Name: Department Coding, dtype: int64"
      ]
     },
     "execution_count": 17,
     "metadata": {},
     "output_type": "execute_result"
    }
   ],
   "source": [
    "df['Department Coding'].value_counts()"
   ]
  },
  {
   "cell_type": "code",
   "execution_count": 18,
   "id": "e15ac281",
   "metadata": {},
   "outputs": [
    {
     "data": {
      "text/plain": [
       "B    58\n",
       "A    47\n",
       "C    17\n",
       "D    15\n",
       "Name: Designation Coding, dtype: int64"
      ]
     },
     "execution_count": 18,
     "metadata": {},
     "output_type": "execute_result"
    }
   ],
   "source": [
    "df['Designation Coding'].value_counts()"
   ]
  },
  {
   "cell_type": "code",
   "execution_count": 19,
   "id": "1c564ff7",
   "metadata": {},
   "outputs": [
    {
     "data": {
      "text/plain": [
       ">1 Yr               40\n",
       "<=10 Years          39\n",
       "1 Yr to > 3 Yrs     25\n",
       "3 Yrs to >5 Yrs     22\n",
       "5 Yrs to >10 Yrs    11\n",
       "Name: How long have you worked for this organization?, dtype: int64"
      ]
     },
     "execution_count": 19,
     "metadata": {},
     "output_type": "execute_result"
    }
   ],
   "source": [
    "df['How long have you worked for this organization?'].value_counts()"
   ]
  },
  {
   "cell_type": "code",
   "execution_count": 20,
   "id": "7249c498",
   "metadata": {},
   "outputs": [
    {
     "data": {
      "text/plain": [
       "26 - 35          67\n",
       "36 - 45          28\n",
       "46 - 55          20\n",
       "21 - 25          14\n",
       "56 - 65           4\n",
       "46 - 55 years     2\n",
       "26 - 35 years     1\n",
       "36 - 45 years     1\n",
       "Name: What is your age?, dtype: int64"
      ]
     },
     "execution_count": 20,
     "metadata": {},
     "output_type": "execute_result"
    }
   ],
   "source": [
    "df['What is your age?'].value_counts()"
   ]
  },
  {
   "cell_type": "code",
   "execution_count": 21,
   "id": "7b9e86fb",
   "metadata": {},
   "outputs": [],
   "source": [
    "# We could spot few anomolies here, let's fix them first."
   ]
  },
  {
   "cell_type": "code",
   "execution_count": 22,
   "id": "b9e6a5fb",
   "metadata": {},
   "outputs": [
    {
     "data": {
      "text/plain": [
       "array(['36 - 45', '46 - 55 ', '26 - 35', '21 - 25', '56 - 65', '46 - 55'],\n",
       "      dtype=object)"
      ]
     },
     "execution_count": 22,
     "metadata": {},
     "output_type": "execute_result"
    }
   ],
   "source": [
    "df.loc[df['What is your age?'] == '46 - 55 years', 'What is your age?'] = '46 - 55'\n",
    "df.loc[df['What is your age?'] == '26 - 35 years','What is your age?'] = '26 - 35'\n",
    "df.loc[df['What is your age?'] == '36 - 45 years','What is your age?'] = '36 - 45'\n",
    "\n",
    "df['What is your age?'].unique()\n"
   ]
  },
  {
   "cell_type": "code",
   "execution_count": 23,
   "id": "79dc8b56",
   "metadata": {},
   "outputs": [],
   "source": [
    "# Checking our age values again, "
   ]
  },
  {
   "cell_type": "code",
   "execution_count": 24,
   "id": "598a0a9d",
   "metadata": {},
   "outputs": [
    {
     "data": {
      "text/plain": [
       "26 - 35     68\n",
       "36 - 45     29\n",
       "46 - 55     20\n",
       "21 - 25     14\n",
       "56 - 65      4\n",
       "46 - 55      2\n",
       "Name: What is your age?, dtype: int64"
      ]
     },
     "execution_count": 24,
     "metadata": {},
     "output_type": "execute_result"
    }
   ],
   "source": [
    "df['What is your age?'].value_counts()"
   ]
  },
  {
   "cell_type": "markdown",
   "id": "2de0eaa5",
   "metadata": {},
   "source": [
    "# Analyzing and Visualizing the data"
   ]
  },
  {
   "cell_type": "code",
   "execution_count": 25,
   "id": "ca0f1f1e",
   "metadata": {},
   "outputs": [],
   "source": [
    "# We\"ll begin comparison with 'Relationship is with Supervisor' and all the attributes mentioned above and would proceeed similarly with rest of the aspects. \n",
    "#We also need to take care of the sublists of this aspect and the unnamed colums asssociated with them, we need to concatinate the values of these calumns to have a more acccurate outcome. "
   ]
  },
  {
   "cell_type": "markdown",
   "id": "6d8206b7",
   "metadata": {},
   "source": [
    "# Pay & Benefits"
   ]
  },
  {
   "cell_type": "code",
   "execution_count": 26,
   "id": "34386e57",
   "metadata": {},
   "outputs": [
    {
     "data": {
      "text/plain": [
       "Neutral              37\n",
       "Disagree Strongly    32\n",
       "Somewhat Disagree    26\n",
       "Agree Somewhat       25\n",
       "Agree Strongly       16\n",
       "Agree                 1\n",
       "Name: Pay & Benefits, dtype: int64"
      ]
     },
     "execution_count": 26,
     "metadata": {},
     "output_type": "execute_result"
    }
   ],
   "source": [
    "df['Pay & Benefits'].value_counts()"
   ]
  },
  {
   "cell_type": "code",
   "execution_count": 27,
   "id": "6ac5340b",
   "metadata": {},
   "outputs": [
    {
     "data": {
      "text/html": [
       "<div>\n",
       "<style scoped>\n",
       "    .dataframe tbody tr th:only-of-type {\n",
       "        vertical-align: middle;\n",
       "    }\n",
       "\n",
       "    .dataframe tbody tr th {\n",
       "        vertical-align: top;\n",
       "    }\n",
       "\n",
       "    .dataframe thead th {\n",
       "        text-align: right;\n",
       "    }\n",
       "</style>\n",
       "<table border=\"1\" class=\"dataframe\">\n",
       "  <thead>\n",
       "    <tr style=\"text-align: right;\">\n",
       "      <th></th>\n",
       "      <th>Over all I am very satisfied with my Organization?</th>\n",
       "    </tr>\n",
       "  </thead>\n",
       "  <tbody>\n",
       "    <tr>\n",
       "      <th>1</th>\n",
       "      <td>Disagree Strongly</td>\n",
       "    </tr>\n",
       "    <tr>\n",
       "      <th>2</th>\n",
       "      <td>Agree Strongly</td>\n",
       "    </tr>\n",
       "    <tr>\n",
       "      <th>3</th>\n",
       "      <td>Agree Strongly</td>\n",
       "    </tr>\n",
       "    <tr>\n",
       "      <th>4</th>\n",
       "      <td>Agree Strongly</td>\n",
       "    </tr>\n",
       "    <tr>\n",
       "      <th>5</th>\n",
       "      <td>Agree Somewhat</td>\n",
       "    </tr>\n",
       "    <tr>\n",
       "      <th>...</th>\n",
       "      <td>...</td>\n",
       "    </tr>\n",
       "    <tr>\n",
       "      <th>133</th>\n",
       "      <td>Neutral</td>\n",
       "    </tr>\n",
       "    <tr>\n",
       "      <th>134</th>\n",
       "      <td>Neutral</td>\n",
       "    </tr>\n",
       "    <tr>\n",
       "      <th>135</th>\n",
       "      <td>Neutral</td>\n",
       "    </tr>\n",
       "    <tr>\n",
       "      <th>136</th>\n",
       "      <td>Agree</td>\n",
       "    </tr>\n",
       "    <tr>\n",
       "      <th>137</th>\n",
       "      <td>Agree</td>\n",
       "    </tr>\n",
       "  </tbody>\n",
       "</table>\n",
       "<p>137 rows × 1 columns</p>\n",
       "</div>"
      ],
      "text/plain": [
       "    Over all I am very satisfied with my Organization?\n",
       "1                                   Disagree Strongly \n",
       "2                                      Agree Strongly \n",
       "3                                      Agree Strongly \n",
       "4                                      Agree Strongly \n",
       "5                                      Agree Somewhat \n",
       "..                                                 ...\n",
       "133                                           Neutral \n",
       "134                                            Neutral\n",
       "135                                            Neutral\n",
       "136                                              Agree\n",
       "137                                              Agree\n",
       "\n",
       "[137 rows x 1 columns]"
      ]
     },
     "execution_count": 27,
     "metadata": {},
     "output_type": "execute_result"
    }
   ],
   "source": [
    "df.iloc[0:137, 73:74]"
   ]
  },
  {
   "cell_type": "code",
   "execution_count": 28,
   "id": "618b0b5a",
   "metadata": {},
   "outputs": [],
   "source": [
    "# Next, assign it to a separate variable corresponding to your question\n",
    "overall = df.iloc[:,73:74]"
   ]
  },
  {
   "cell_type": "code",
   "execution_count": 29,
   "id": "0379fa86",
   "metadata": {},
   "outputs": [],
   "source": [
    "def rename_columns(df, new_names_list):\n",
    "    \n",
    "    \"\"\"Takes a DataFrame that needs to be renamed and a list of the new\n",
    "        column names, and returns the renamed DataFrame. Make sure the \n",
    "        number of columns in the df matches the list length exactly,\n",
    "        or function will not work as intended.\"\"\"\n",
    "    \n",
    "    rename_dict = dict(zip(df.columns, new_names_list))\n",
    "    df = df.rename(mapper=rename_dict, axis=1)\n",
    "    \n",
    "    return df"
   ]
  },
  {
   "cell_type": "code",
   "execution_count": 30,
   "id": "b495aff1",
   "metadata": {},
   "outputs": [
    {
     "data": {
      "text/plain": [
       "array(['I would recommend working here to a friend'], dtype=object)"
      ]
     },
     "execution_count": 30,
     "metadata": {},
     "output_type": "execute_result"
    }
   ],
   "source": [
    "headers[73:74].values"
   ]
  },
  {
   "cell_type": "code",
   "execution_count": 31,
   "id": "ae9bf05b",
   "metadata": {
    "scrolled": false
   },
   "outputs": [
    {
     "data": {
      "text/html": [
       "<div>\n",
       "<style scoped>\n",
       "    .dataframe tbody tr th:only-of-type {\n",
       "        vertical-align: middle;\n",
       "    }\n",
       "\n",
       "    .dataframe tbody tr th {\n",
       "        vertical-align: top;\n",
       "    }\n",
       "\n",
       "    .dataframe thead th {\n",
       "        text-align: right;\n",
       "    }\n",
       "</style>\n",
       "<table border=\"1\" class=\"dataframe\">\n",
       "  <thead>\n",
       "    <tr style=\"text-align: right;\">\n",
       "      <th></th>\n",
       "      <th>I would recommend working here to a friend</th>\n",
       "      <th>What is your age?</th>\n",
       "      <th>How long have you worked for this organization?</th>\n",
       "      <th>Department Coding</th>\n",
       "      <th>Designation Coding</th>\n",
       "      <th>Over all I am very satisfied with my Organization?</th>\n",
       "    </tr>\n",
       "  </thead>\n",
       "  <tbody>\n",
       "    <tr>\n",
       "      <th>1</th>\n",
       "      <td>Disagree Strongly</td>\n",
       "      <td>36 - 45</td>\n",
       "      <td>3 Yrs to &gt;5 Yrs</td>\n",
       "      <td>ARD</td>\n",
       "      <td>A</td>\n",
       "      <td>Disagree Strongly</td>\n",
       "    </tr>\n",
       "    <tr>\n",
       "      <th>2</th>\n",
       "      <td>Agree Strongly</td>\n",
       "      <td>46 - 55</td>\n",
       "      <td>&lt;=10 Years</td>\n",
       "      <td>AO</td>\n",
       "      <td>A</td>\n",
       "      <td>Agree Strongly</td>\n",
       "    </tr>\n",
       "    <tr>\n",
       "      <th>3</th>\n",
       "      <td>Agree Strongly</td>\n",
       "      <td>26 - 35</td>\n",
       "      <td>&gt;1 Yr</td>\n",
       "      <td>ARD</td>\n",
       "      <td>A</td>\n",
       "      <td>Agree Strongly</td>\n",
       "    </tr>\n",
       "    <tr>\n",
       "      <th>4</th>\n",
       "      <td>Agree Strongly</td>\n",
       "      <td>26 - 35</td>\n",
       "      <td>&gt;1 Yr</td>\n",
       "      <td>SS</td>\n",
       "      <td>B</td>\n",
       "      <td>Agree Strongly</td>\n",
       "    </tr>\n",
       "    <tr>\n",
       "      <th>5</th>\n",
       "      <td>Agree Somewhat</td>\n",
       "      <td>26 - 35</td>\n",
       "      <td>&gt;1 Yr</td>\n",
       "      <td>IS</td>\n",
       "      <td>B</td>\n",
       "      <td>Agree Somewhat</td>\n",
       "    </tr>\n",
       "    <tr>\n",
       "      <th>6</th>\n",
       "      <td>Agree Somewhat</td>\n",
       "      <td>46 - 55</td>\n",
       "      <td>&lt;=10 Years</td>\n",
       "      <td>DS</td>\n",
       "      <td>B</td>\n",
       "      <td>Agree Somewhat</td>\n",
       "    </tr>\n",
       "    <tr>\n",
       "      <th>7</th>\n",
       "      <td>Agree Somewhat</td>\n",
       "      <td>26 - 35</td>\n",
       "      <td>3 Yrs to &gt;5 Yrs</td>\n",
       "      <td>EOO</td>\n",
       "      <td>B</td>\n",
       "      <td>Agree Somewhat</td>\n",
       "    </tr>\n",
       "    <tr>\n",
       "      <th>8</th>\n",
       "      <td>Agree Strongly</td>\n",
       "      <td>26 - 35</td>\n",
       "      <td>5 Yrs to &gt;10 Yrs</td>\n",
       "      <td>EOO</td>\n",
       "      <td>A</td>\n",
       "      <td>Agree Strongly</td>\n",
       "    </tr>\n",
       "    <tr>\n",
       "      <th>9</th>\n",
       "      <td>Agree Strongly</td>\n",
       "      <td>26 - 35</td>\n",
       "      <td>&gt;1 Yr</td>\n",
       "      <td>ARD</td>\n",
       "      <td>B</td>\n",
       "      <td>Agree Strongly</td>\n",
       "    </tr>\n",
       "    <tr>\n",
       "      <th>10</th>\n",
       "      <td>Neutral</td>\n",
       "      <td>26 - 35</td>\n",
       "      <td>&gt;1 Yr</td>\n",
       "      <td>AO</td>\n",
       "      <td>B</td>\n",
       "      <td>Neutral</td>\n",
       "    </tr>\n",
       "    <tr>\n",
       "      <th>11</th>\n",
       "      <td>Agree Strongly</td>\n",
       "      <td>26 - 35</td>\n",
       "      <td>&lt;=10 Years</td>\n",
       "      <td>AO</td>\n",
       "      <td>B</td>\n",
       "      <td>Agree Strongly</td>\n",
       "    </tr>\n",
       "    <tr>\n",
       "      <th>12</th>\n",
       "      <td>Disagree Strongly</td>\n",
       "      <td>26 - 35</td>\n",
       "      <td>1 Yr to &gt; 3 Yrs</td>\n",
       "      <td>EORD</td>\n",
       "      <td>B</td>\n",
       "      <td>Disagree Strongly</td>\n",
       "    </tr>\n",
       "    <tr>\n",
       "      <th>13</th>\n",
       "      <td>Agree Strongly</td>\n",
       "      <td>46 - 55</td>\n",
       "      <td>&lt;=10 Years</td>\n",
       "      <td>DS</td>\n",
       "      <td>B</td>\n",
       "      <td>Agree Strongly</td>\n",
       "    </tr>\n",
       "    <tr>\n",
       "      <th>14</th>\n",
       "      <td>Agree Somewhat</td>\n",
       "      <td>21 - 25</td>\n",
       "      <td>1 Yr to &gt; 3 Yrs</td>\n",
       "      <td>EORD</td>\n",
       "      <td>A</td>\n",
       "      <td>Agree Somewhat</td>\n",
       "    </tr>\n",
       "    <tr>\n",
       "      <th>15</th>\n",
       "      <td>Neutral</td>\n",
       "      <td>21 - 25</td>\n",
       "      <td>1 Yr to &gt; 3 Yrs</td>\n",
       "      <td>SS</td>\n",
       "      <td>A</td>\n",
       "      <td>Neutral</td>\n",
       "    </tr>\n",
       "    <tr>\n",
       "      <th>16</th>\n",
       "      <td>Somewhat Disagree</td>\n",
       "      <td>21 - 25</td>\n",
       "      <td>&gt;1 Yr</td>\n",
       "      <td>SS</td>\n",
       "      <td>B</td>\n",
       "      <td>Somewhat Disagree</td>\n",
       "    </tr>\n",
       "    <tr>\n",
       "      <th>17</th>\n",
       "      <td>Agree Strongly</td>\n",
       "      <td>36 - 45</td>\n",
       "      <td>&gt;1 Yr</td>\n",
       "      <td>IS</td>\n",
       "      <td>B</td>\n",
       "      <td>Agree Strongly</td>\n",
       "    </tr>\n",
       "    <tr>\n",
       "      <th>18</th>\n",
       "      <td>Agree Strongly</td>\n",
       "      <td>21 - 25</td>\n",
       "      <td>&gt;1 Yr</td>\n",
       "      <td>SS</td>\n",
       "      <td>A</td>\n",
       "      <td>Agree Strongly</td>\n",
       "    </tr>\n",
       "    <tr>\n",
       "      <th>19</th>\n",
       "      <td>Neutral</td>\n",
       "      <td>26 - 35</td>\n",
       "      <td>&gt;1 Yr</td>\n",
       "      <td>IS</td>\n",
       "      <td>A</td>\n",
       "      <td>Neutral</td>\n",
       "    </tr>\n",
       "    <tr>\n",
       "      <th>20</th>\n",
       "      <td>Neutral</td>\n",
       "      <td>26 - 35</td>\n",
       "      <td>&gt;1 Yr</td>\n",
       "      <td>ARD</td>\n",
       "      <td>B</td>\n",
       "      <td>Neutral</td>\n",
       "    </tr>\n",
       "  </tbody>\n",
       "</table>\n",
       "</div>"
      ],
      "text/plain": [
       "   I would recommend working here to a friend What is your age?  \\\n",
       "1                          Disagree Strongly            36 - 45   \n",
       "2                             Agree Strongly           46 - 55    \n",
       "3                             Agree Strongly            26 - 35   \n",
       "4                             Agree Strongly            26 - 35   \n",
       "5                             Agree Somewhat            26 - 35   \n",
       "6                             Agree Somewhat           46 - 55    \n",
       "7                             Agree Somewhat            26 - 35   \n",
       "8                             Agree Strongly            26 - 35   \n",
       "9                             Agree Strongly            26 - 35   \n",
       "10                                   Neutral            26 - 35   \n",
       "11                            Agree Strongly            26 - 35   \n",
       "12                         Disagree Strongly            26 - 35   \n",
       "13                            Agree Strongly           46 - 55    \n",
       "14                            Agree Somewhat            21 - 25   \n",
       "15                                   Neutral            21 - 25   \n",
       "16                          Somewhat Disagree           21 - 25   \n",
       "17                            Agree Strongly            36 - 45   \n",
       "18                            Agree Strongly            21 - 25   \n",
       "19                                   Neutral            26 - 35   \n",
       "20                                   Neutral            26 - 35   \n",
       "\n",
       "   How long have you worked for this organization? Department Coding  \\\n",
       "1                                  3 Yrs to >5 Yrs               ARD   \n",
       "2                                       <=10 Years                AO   \n",
       "3                                            >1 Yr               ARD   \n",
       "4                                            >1 Yr                SS   \n",
       "5                                            >1 Yr                IS   \n",
       "6                                       <=10 Years                DS   \n",
       "7                                  3 Yrs to >5 Yrs               EOO   \n",
       "8                                 5 Yrs to >10 Yrs               EOO   \n",
       "9                                            >1 Yr               ARD   \n",
       "10                                           >1 Yr                AO   \n",
       "11                                      <=10 Years                AO   \n",
       "12                                 1 Yr to > 3 Yrs              EORD   \n",
       "13                                      <=10 Years                DS   \n",
       "14                                 1 Yr to > 3 Yrs              EORD   \n",
       "15                                 1 Yr to > 3 Yrs                SS   \n",
       "16                                           >1 Yr                SS   \n",
       "17                                           >1 Yr                IS   \n",
       "18                                           >1 Yr                SS   \n",
       "19                                           >1 Yr                IS   \n",
       "20                                           >1 Yr               ARD   \n",
       "\n",
       "   Designation Coding Over all I am very satisfied with my Organization?  \n",
       "1                   A                                 Disagree Strongly   \n",
       "2                   A                                    Agree Strongly   \n",
       "3                   A                                    Agree Strongly   \n",
       "4                   B                                    Agree Strongly   \n",
       "5                   B                                    Agree Somewhat   \n",
       "6                   B                                    Agree Somewhat   \n",
       "7                   B                                    Agree Somewhat   \n",
       "8                   A                                    Agree Strongly   \n",
       "9                   B                                    Agree Strongly   \n",
       "10                  B                                           Neutral   \n",
       "11                  B                                    Agree Strongly   \n",
       "12                  B                                 Disagree Strongly   \n",
       "13                  B                                    Agree Strongly   \n",
       "14                  A                                    Agree Somewhat   \n",
       "15                  A                                           Neutral   \n",
       "16                  B                                  Somewhat Disagree  \n",
       "17                  B                                    Agree Strongly   \n",
       "18                  A                                    Agree Strongly   \n",
       "19                  A                                           Neutral   \n",
       "20                  B                                           Neutral   "
      ]
     },
     "execution_count": 31,
     "metadata": {},
     "output_type": "execute_result"
    }
   ],
   "source": [
    "ic_col_names = headers[73:74].values\n",
    "\n",
    "overall = rename_columns(overall, ic_col_names)\n",
    "\n",
    "# Now tack on age_group from the original DataFrame so we can use .groupby\n",
    "# (You could also use pd.concat, but I find this easier)\n",
    "overall['What is your age?'] = df['What is your age?']\n",
    "overall['How long have you worked for this organization?'] = df['How long have you worked for this organization?']\n",
    "overall['Department Coding'] = df['Department Coding']\n",
    "overall['Designation Coding'] = df['Designation Coding']\n",
    "overall['Over all I am very satisfied with my Organization?'] = df['Over all I am very satisfied with my Organization?']\n",
    "overall.head(20)"
   ]
  },
  {
   "cell_type": "code",
   "execution_count": 32,
   "id": "851ebd4a",
   "metadata": {},
   "outputs": [
    {
     "data": {
      "text/plain": [
       "Index(['I would recommend working here to a friend', 'What is your age?',\n",
       "       'How long have you worked for this organization?', 'Department Coding',\n",
       "       'Designation Coding',\n",
       "       'Over all I am very satisfied with my Organization?'],\n",
       "      dtype='object')"
      ]
     },
     "execution_count": 32,
     "metadata": {},
     "output_type": "execute_result"
    }
   ],
   "source": [
    "overall.columns"
   ]
  },
  {
   "cell_type": "code",
   "execution_count": 33,
   "id": "d4166168",
   "metadata": {
    "scrolled": true
   },
   "outputs": [
    {
     "data": {
      "text/html": [
       "<div>\n",
       "<style scoped>\n",
       "    .dataframe tbody tr th:only-of-type {\n",
       "        vertical-align: middle;\n",
       "    }\n",
       "\n",
       "    .dataframe tbody tr th {\n",
       "        vertical-align: top;\n",
       "    }\n",
       "\n",
       "    .dataframe thead th {\n",
       "        text-align: right;\n",
       "    }\n",
       "</style>\n",
       "<table border=\"1\" class=\"dataframe\">\n",
       "  <thead>\n",
       "    <tr style=\"text-align: right;\">\n",
       "      <th></th>\n",
       "      <th>I would recommend working here to a friend</th>\n",
       "      <th>What is your age?</th>\n",
       "      <th>How long have you worked for this organization?</th>\n",
       "      <th>Department Coding</th>\n",
       "      <th>Designation Coding</th>\n",
       "      <th>Over all I am very satisfied with my Organization?</th>\n",
       "    </tr>\n",
       "  </thead>\n",
       "  <tbody>\n",
       "    <tr>\n",
       "      <th>1</th>\n",
       "      <td>Disagree Strongly</td>\n",
       "      <td>36 - 45</td>\n",
       "      <td>3 Yrs to &gt;5 Yrs</td>\n",
       "      <td>ARD</td>\n",
       "      <td>A</td>\n",
       "      <td>Disagree Strongly</td>\n",
       "    </tr>\n",
       "    <tr>\n",
       "      <th>2</th>\n",
       "      <td>Agree Strongly</td>\n",
       "      <td>46 - 55</td>\n",
       "      <td>&lt;=10 Years</td>\n",
       "      <td>AO</td>\n",
       "      <td>A</td>\n",
       "      <td>Agree Strongly</td>\n",
       "    </tr>\n",
       "    <tr>\n",
       "      <th>3</th>\n",
       "      <td>Agree Strongly</td>\n",
       "      <td>26 - 35</td>\n",
       "      <td>&gt;1 Yr</td>\n",
       "      <td>ARD</td>\n",
       "      <td>A</td>\n",
       "      <td>Agree Strongly</td>\n",
       "    </tr>\n",
       "    <tr>\n",
       "      <th>4</th>\n",
       "      <td>Agree Strongly</td>\n",
       "      <td>26 - 35</td>\n",
       "      <td>&gt;1 Yr</td>\n",
       "      <td>SS</td>\n",
       "      <td>B</td>\n",
       "      <td>Agree Strongly</td>\n",
       "    </tr>\n",
       "    <tr>\n",
       "      <th>5</th>\n",
       "      <td>Agree Somewhat</td>\n",
       "      <td>26 - 35</td>\n",
       "      <td>&gt;1 Yr</td>\n",
       "      <td>IS</td>\n",
       "      <td>B</td>\n",
       "      <td>Agree Somewhat</td>\n",
       "    </tr>\n",
       "    <tr>\n",
       "      <th>6</th>\n",
       "      <td>Agree Somewhat</td>\n",
       "      <td>46 - 55</td>\n",
       "      <td>&lt;=10 Years</td>\n",
       "      <td>DS</td>\n",
       "      <td>B</td>\n",
       "      <td>Agree Somewhat</td>\n",
       "    </tr>\n",
       "    <tr>\n",
       "      <th>7</th>\n",
       "      <td>Agree Somewhat</td>\n",
       "      <td>26 - 35</td>\n",
       "      <td>3 Yrs to &gt;5 Yrs</td>\n",
       "      <td>EOO</td>\n",
       "      <td>B</td>\n",
       "      <td>Agree Somewhat</td>\n",
       "    </tr>\n",
       "    <tr>\n",
       "      <th>8</th>\n",
       "      <td>Agree Strongly</td>\n",
       "      <td>26 - 35</td>\n",
       "      <td>5 Yrs to &gt;10 Yrs</td>\n",
       "      <td>EOO</td>\n",
       "      <td>A</td>\n",
       "      <td>Agree Strongly</td>\n",
       "    </tr>\n",
       "    <tr>\n",
       "      <th>9</th>\n",
       "      <td>Agree Strongly</td>\n",
       "      <td>26 - 35</td>\n",
       "      <td>&gt;1 Yr</td>\n",
       "      <td>ARD</td>\n",
       "      <td>B</td>\n",
       "      <td>Agree Strongly</td>\n",
       "    </tr>\n",
       "    <tr>\n",
       "      <th>10</th>\n",
       "      <td>Neutral</td>\n",
       "      <td>26 - 35</td>\n",
       "      <td>&gt;1 Yr</td>\n",
       "      <td>AO</td>\n",
       "      <td>B</td>\n",
       "      <td>Neutral</td>\n",
       "    </tr>\n",
       "  </tbody>\n",
       "</table>\n",
       "</div>"
      ],
      "text/plain": [
       "   I would recommend working here to a friend What is your age?  \\\n",
       "1                          Disagree Strongly            36 - 45   \n",
       "2                             Agree Strongly           46 - 55    \n",
       "3                             Agree Strongly            26 - 35   \n",
       "4                             Agree Strongly            26 - 35   \n",
       "5                             Agree Somewhat            26 - 35   \n",
       "6                             Agree Somewhat           46 - 55    \n",
       "7                             Agree Somewhat            26 - 35   \n",
       "8                             Agree Strongly            26 - 35   \n",
       "9                             Agree Strongly            26 - 35   \n",
       "10                                   Neutral            26 - 35   \n",
       "\n",
       "   How long have you worked for this organization? Department Coding  \\\n",
       "1                                  3 Yrs to >5 Yrs               ARD   \n",
       "2                                       <=10 Years                AO   \n",
       "3                                            >1 Yr               ARD   \n",
       "4                                            >1 Yr                SS   \n",
       "5                                            >1 Yr                IS   \n",
       "6                                       <=10 Years                DS   \n",
       "7                                  3 Yrs to >5 Yrs               EOO   \n",
       "8                                 5 Yrs to >10 Yrs               EOO   \n",
       "9                                            >1 Yr               ARD   \n",
       "10                                           >1 Yr                AO   \n",
       "\n",
       "   Designation Coding Over all I am very satisfied with my Organization?  \n",
       "1                   A                                 Disagree Strongly   \n",
       "2                   A                                    Agree Strongly   \n",
       "3                   A                                    Agree Strongly   \n",
       "4                   B                                    Agree Strongly   \n",
       "5                   B                                    Agree Somewhat   \n",
       "6                   B                                    Agree Somewhat   \n",
       "7                   B                                    Agree Somewhat   \n",
       "8                   A                                    Agree Strongly   \n",
       "9                   B                                    Agree Strongly   \n",
       "10                  B                                           Neutral   "
      ]
     },
     "execution_count": 33,
     "metadata": {},
     "output_type": "execute_result"
    }
   ],
   "source": [
    "overall.head(10)"
   ]
  },
  {
   "cell_type": "code",
   "execution_count": 34,
   "id": "0d1d6d3a",
   "metadata": {},
   "outputs": [
    {
     "data": {
      "text/html": [
       "<div>\n",
       "<style scoped>\n",
       "    .dataframe tbody tr th:only-of-type {\n",
       "        vertical-align: middle;\n",
       "    }\n",
       "\n",
       "    .dataframe tbody tr th {\n",
       "        vertical-align: top;\n",
       "    }\n",
       "\n",
       "    .dataframe thead th {\n",
       "        text-align: right;\n",
       "    }\n",
       "</style>\n",
       "<table border=\"1\" class=\"dataframe\">\n",
       "  <thead>\n",
       "    <tr style=\"text-align: right;\">\n",
       "      <th></th>\n",
       "      <th>I would recommend working here to a friend</th>\n",
       "      <th>What is your age?</th>\n",
       "      <th>How long have you worked for this organization?</th>\n",
       "      <th>Department Coding</th>\n",
       "      <th>Designation Coding</th>\n",
       "      <th>Over all I am very satisfied with my Organization?</th>\n",
       "    </tr>\n",
       "  </thead>\n",
       "  <tbody>\n",
       "    <tr>\n",
       "      <th>14</th>\n",
       "      <td>Agree Somewhat</td>\n",
       "      <td>21 - 25</td>\n",
       "      <td>1 Yr to &gt; 3 Yrs</td>\n",
       "      <td>EORD</td>\n",
       "      <td>A</td>\n",
       "      <td>Agree Somewhat</td>\n",
       "    </tr>\n",
       "    <tr>\n",
       "      <th>71</th>\n",
       "      <td>Neutral</td>\n",
       "      <td>21 - 25</td>\n",
       "      <td>&gt;1 Yr</td>\n",
       "      <td>ARD</td>\n",
       "      <td>A</td>\n",
       "      <td>Neutral</td>\n",
       "    </tr>\n",
       "    <tr>\n",
       "      <th>24</th>\n",
       "      <td>Agree Somewhat</td>\n",
       "      <td>21 - 25</td>\n",
       "      <td>&gt;1 Yr</td>\n",
       "      <td>IS</td>\n",
       "      <td>C</td>\n",
       "      <td>Agree Somewhat</td>\n",
       "    </tr>\n",
       "    <tr>\n",
       "      <th>50</th>\n",
       "      <td>Agree Somewhat</td>\n",
       "      <td>21 - 25</td>\n",
       "      <td>3 Yrs to &gt;5 Yrs</td>\n",
       "      <td>EORD</td>\n",
       "      <td>B</td>\n",
       "      <td>Agree Somewhat</td>\n",
       "    </tr>\n",
       "    <tr>\n",
       "      <th>65</th>\n",
       "      <td>Somewhat Disagree</td>\n",
       "      <td>21 - 25</td>\n",
       "      <td>&gt;1 Yr</td>\n",
       "      <td>MKT</td>\n",
       "      <td>A</td>\n",
       "      <td>Somewhat Disagree</td>\n",
       "    </tr>\n",
       "    <tr>\n",
       "      <th>...</th>\n",
       "      <td>...</td>\n",
       "      <td>...</td>\n",
       "      <td>...</td>\n",
       "      <td>...</td>\n",
       "      <td>...</td>\n",
       "      <td>...</td>\n",
       "    </tr>\n",
       "    <tr>\n",
       "      <th>59</th>\n",
       "      <td>Agree Somewhat</td>\n",
       "      <td>46 - 55</td>\n",
       "      <td>&lt;=10 Years</td>\n",
       "      <td>AO</td>\n",
       "      <td>A</td>\n",
       "      <td>Agree Somewhat</td>\n",
       "    </tr>\n",
       "    <tr>\n",
       "      <th>23</th>\n",
       "      <td>Agree Strongly</td>\n",
       "      <td>56 - 65</td>\n",
       "      <td>&lt;=10 Years</td>\n",
       "      <td>SS</td>\n",
       "      <td>A</td>\n",
       "      <td>Agree Strongly</td>\n",
       "    </tr>\n",
       "    <tr>\n",
       "      <th>87</th>\n",
       "      <td>Agree Somewhat</td>\n",
       "      <td>56 - 65</td>\n",
       "      <td>5 Yrs to &gt;10 Yrs</td>\n",
       "      <td>EOO</td>\n",
       "      <td>C</td>\n",
       "      <td>Agree Somewhat</td>\n",
       "    </tr>\n",
       "    <tr>\n",
       "      <th>102</th>\n",
       "      <td>Neutral</td>\n",
       "      <td>56 - 65</td>\n",
       "      <td>&lt;=10 Years</td>\n",
       "      <td>AO</td>\n",
       "      <td>D</td>\n",
       "      <td>Neutral</td>\n",
       "    </tr>\n",
       "    <tr>\n",
       "      <th>46</th>\n",
       "      <td>Agree Somewhat</td>\n",
       "      <td>56 - 65</td>\n",
       "      <td>&lt;=10 Years</td>\n",
       "      <td>EOO</td>\n",
       "      <td>B</td>\n",
       "      <td>Agree Somewhat</td>\n",
       "    </tr>\n",
       "  </tbody>\n",
       "</table>\n",
       "<p>137 rows × 6 columns</p>\n",
       "</div>"
      ],
      "text/plain": [
       "    I would recommend working here to a friend What is your age?  \\\n",
       "14                             Agree Somewhat            21 - 25   \n",
       "71                                    Neutral            21 - 25   \n",
       "24                             Agree Somewhat            21 - 25   \n",
       "50                             Agree Somewhat            21 - 25   \n",
       "65                           Somewhat Disagree           21 - 25   \n",
       "..                                         ...               ...   \n",
       "59                             Agree Somewhat           46 - 55    \n",
       "23                             Agree Strongly            56 - 65   \n",
       "87                             Agree Somewhat            56 - 65   \n",
       "102                                   Neutral            56 - 65   \n",
       "46                             Agree Somewhat            56 - 65   \n",
       "\n",
       "    How long have you worked for this organization? Department Coding  \\\n",
       "14                                  1 Yr to > 3 Yrs              EORD   \n",
       "71                                            >1 Yr               ARD   \n",
       "24                                            >1 Yr                IS   \n",
       "50                                  3 Yrs to >5 Yrs              EORD   \n",
       "65                                            >1 Yr               MKT   \n",
       "..                                              ...               ...   \n",
       "59                                       <=10 Years                AO   \n",
       "23                                       <=10 Years                SS   \n",
       "87                                 5 Yrs to >10 Yrs               EOO   \n",
       "102                                      <=10 Years                AO   \n",
       "46                                       <=10 Years               EOO   \n",
       "\n",
       "    Designation Coding Over all I am very satisfied with my Organization?  \n",
       "14                   A                                    Agree Somewhat   \n",
       "71                   A                                           Neutral   \n",
       "24                   C                                    Agree Somewhat   \n",
       "50                   B                                    Agree Somewhat   \n",
       "65                   A                                  Somewhat Disagree  \n",
       "..                 ...                                                ...  \n",
       "59                   A                                    Agree Somewhat   \n",
       "23                   A                                    Agree Strongly   \n",
       "87                   C                                    Agree Somewhat   \n",
       "102                  D                                           Neutral   \n",
       "46                   B                                    Agree Somewhat   \n",
       "\n",
       "[137 rows x 6 columns]"
      ]
     },
     "execution_count": 34,
     "metadata": {},
     "output_type": "execute_result"
    }
   ],
   "source": [
    "overall.sort_values(['What is your age?'], ascending=True)"
   ]
  },
  {
   "cell_type": "markdown",
   "id": "37ff74a7",
   "metadata": {},
   "source": [
    "\n",
    "# Attribute Iterations"
   ]
  },
  {
   "cell_type": "code",
   "execution_count": 35,
   "id": "92ff0265",
   "metadata": {},
   "outputs": [],
   "source": [
    "mycode = {'Neutral' : 0, 'Disagree Strongly': 1, 'Somewhat Disagree' : 2, 'Agree' : 3, 'Agree Somewhat' : 4, 'Agree Strongly':5 }"
   ]
  },
  {
   "cell_type": "code",
   "execution_count": 36,
   "id": "f3453415",
   "metadata": {},
   "outputs": [],
   "source": [
    "for i in overall.columns:\n",
    "    overall[i] = overall[i].replace(mycode)\n",
    "      "
   ]
  },
  {
   "cell_type": "code",
   "execution_count": 37,
   "id": "007e2d4c",
   "metadata": {},
   "outputs": [
    {
     "data": {
      "text/plain": [
       "<AxesSubplot:xlabel='What is your age?', ylabel='count'>"
      ]
     },
     "execution_count": 37,
     "metadata": {},
     "output_type": "execute_result"
    },
    {
     "data": {
      "image/png": "[encoded data removed]",
      "text/plain": [
       "<Figure size 432x288 with 1 Axes>"
      ]
     },
     "metadata": {},
     "output_type": "display_data"
    }
   ],
   "source": [
    "sns.countplot(x=\"What is your age?\",hue=\"Department Coding\",data=overall)"
   ]
  },
  {
   "cell_type": "code",
   "execution_count": 38,
   "id": "736b40e5",
   "metadata": {},
   "outputs": [
    {
     "data": {
      "text/plain": [
       "<AxesSubplot:xlabel='What is your age?', ylabel='count'>"
      ]
     },
     "execution_count": 38,
     "metadata": {},
     "output_type": "execute_result"
    },
    {
     "data": {
      "image/png": "[encoded data removed]",
      "text/plain": [
       "<Figure size 432x288 with 1 Axes>"
      ]
     },
     "metadata": {},
     "output_type": "display_data"
    }
   ],
   "source": [
    "sns.countplot(x=\"What is your age?\",hue=\"Designation Coding\",data=overall)"
   ]
  },
  {
   "cell_type": "code",
   "execution_count": 39,
   "id": "ed8b4c5f",
   "metadata": {
    "scrolled": true
   },
   "outputs": [
    {
     "data": {
      "text/plain": [
       "<AxesSubplot:xlabel='What is your age?', ylabel='count'>"
      ]
     },
     "execution_count": 39,
     "metadata": {},
     "output_type": "execute_result"
    },
    {
     "data": {
      "image/png": "[encoded data removed]",
      "text/plain": [
       "<Figure size 432x288 with 1 Axes>"
      ]
     },
     "metadata": {},
     "output_type": "display_data"
    }
   ],
   "source": [
    "sns.countplot(x=\"What is your age?\",hue=\"How long have you worked for this organization?\",data=overall)"
   ]
  },
  {
   "cell_type": "code",
   "execution_count": 40,
   "id": "2a762b05",
   "metadata": {},
   "outputs": [
    {
     "data": {
      "text/html": [
       "<div>\n",
       "<style scoped>\n",
       "    .dataframe tbody tr th:only-of-type {\n",
       "        vertical-align: middle;\n",
       "    }\n",
       "\n",
       "    .dataframe tbody tr th {\n",
       "        vertical-align: top;\n",
       "    }\n",
       "\n",
       "    .dataframe thead th {\n",
       "        text-align: right;\n",
       "    }\n",
       "</style>\n",
       "<table border=\"1\" class=\"dataframe\">\n",
       "  <thead>\n",
       "    <tr style=\"text-align: right;\">\n",
       "      <th></th>\n",
       "      <th>I would recommend working here to a friend</th>\n",
       "      <th>What is your age?</th>\n",
       "      <th>Department Coding</th>\n",
       "      <th>Designation Coding</th>\n",
       "      <th>Over all I am very satisfied with my Organization?</th>\n",
       "    </tr>\n",
       "    <tr>\n",
       "      <th>How long have you worked for this organization?</th>\n",
       "      <th></th>\n",
       "      <th></th>\n",
       "      <th></th>\n",
       "      <th></th>\n",
       "      <th></th>\n",
       "    </tr>\n",
       "  </thead>\n",
       "  <tbody>\n",
       "    <tr>\n",
       "      <th>1 Yr to &gt; 3 Yrs</th>\n",
       "      <td>25</td>\n",
       "      <td>25</td>\n",
       "      <td>25</td>\n",
       "      <td>25</td>\n",
       "      <td>25</td>\n",
       "    </tr>\n",
       "    <tr>\n",
       "      <th>3 Yrs to &gt;5 Yrs</th>\n",
       "      <td>22</td>\n",
       "      <td>22</td>\n",
       "      <td>22</td>\n",
       "      <td>22</td>\n",
       "      <td>22</td>\n",
       "    </tr>\n",
       "    <tr>\n",
       "      <th>5 Yrs to &gt;10 Yrs</th>\n",
       "      <td>11</td>\n",
       "      <td>11</td>\n",
       "      <td>11</td>\n",
       "      <td>11</td>\n",
       "      <td>11</td>\n",
       "    </tr>\n",
       "    <tr>\n",
       "      <th>&lt;=10 Years</th>\n",
       "      <td>39</td>\n",
       "      <td>39</td>\n",
       "      <td>39</td>\n",
       "      <td>39</td>\n",
       "      <td>39</td>\n",
       "    </tr>\n",
       "    <tr>\n",
       "      <th>&gt;1 Yr</th>\n",
       "      <td>40</td>\n",
       "      <td>40</td>\n",
       "      <td>40</td>\n",
       "      <td>40</td>\n",
       "      <td>40</td>\n",
       "    </tr>\n",
       "  </tbody>\n",
       "</table>\n",
       "</div>"
      ],
      "text/plain": [
       "                                                 I would recommend working here to a friend  \\\n",
       "How long have you worked for this organization?                                               \n",
       "1 Yr to > 3 Yrs                                                                          25   \n",
       "3 Yrs to >5 Yrs                                                                          22   \n",
       "5 Yrs to >10 Yrs                                                                         11   \n",
       "<=10 Years                                                                               39   \n",
       ">1 Yr                                                                                    40   \n",
       "\n",
       "                                                 What is your age?  \\\n",
       "How long have you worked for this organization?                      \n",
       "1 Yr to > 3 Yrs                                                 25   \n",
       "3 Yrs to >5 Yrs                                                 22   \n",
       "5 Yrs to >10 Yrs                                                11   \n",
       "<=10 Years                                                      39   \n",
       ">1 Yr                                                           40   \n",
       "\n",
       "                                                 Department Coding  \\\n",
       "How long have you worked for this organization?                      \n",
       "1 Yr to > 3 Yrs                                                 25   \n",
       "3 Yrs to >5 Yrs                                                 22   \n",
       "5 Yrs to >10 Yrs                                                11   \n",
       "<=10 Years                                                      39   \n",
       ">1 Yr                                                           40   \n",
       "\n",
       "                                                 Designation Coding  \\\n",
       "How long have you worked for this organization?                       \n",
       "1 Yr to > 3 Yrs                                                  25   \n",
       "3 Yrs to >5 Yrs                                                  22   \n",
       "5 Yrs to >10 Yrs                                                 11   \n",
       "<=10 Years                                                       39   \n",
       ">1 Yr                                                            40   \n",
       "\n",
       "                                                 Over all I am very satisfied with my Organization?  \n",
       "How long have you worked for this organization?                                                      \n",
       "1 Yr to > 3 Yrs                                                                                 25   \n",
       "3 Yrs to >5 Yrs                                                                                 22   \n",
       "5 Yrs to >10 Yrs                                                                                11   \n",
       "<=10 Years                                                                                      39   \n",
       ">1 Yr                                                                                           40   "
      ]
     },
     "execution_count": 40,
     "metadata": {},
     "output_type": "execute_result"
    }
   ],
   "source": [
    "overall.groupby('How long have you worked for this organization?').agg('count')"
   ]
  },
  {
   "cell_type": "code",
   "execution_count": 41,
   "id": "5fafc03d",
   "metadata": {},
   "outputs": [
    {
     "data": {
      "text/html": [
       "<div>\n",
       "<style scoped>\n",
       "    .dataframe tbody tr th:only-of-type {\n",
       "        vertical-align: middle;\n",
       "    }\n",
       "\n",
       "    .dataframe tbody tr th {\n",
       "        vertical-align: top;\n",
       "    }\n",
       "\n",
       "    .dataframe thead th {\n",
       "        text-align: right;\n",
       "    }\n",
       "</style>\n",
       "<table border=\"1\" class=\"dataframe\">\n",
       "  <thead>\n",
       "    <tr style=\"text-align: right;\">\n",
       "      <th></th>\n",
       "      <th>I would recommend working here to a friend</th>\n",
       "      <th>How long have you worked for this organization?</th>\n",
       "      <th>Department Coding</th>\n",
       "      <th>Designation Coding</th>\n",
       "      <th>Over all I am very satisfied with my Organization?</th>\n",
       "    </tr>\n",
       "    <tr>\n",
       "      <th>What is your age?</th>\n",
       "      <th></th>\n",
       "      <th></th>\n",
       "      <th></th>\n",
       "      <th></th>\n",
       "      <th></th>\n",
       "    </tr>\n",
       "  </thead>\n",
       "  <tbody>\n",
       "    <tr>\n",
       "      <th>21 - 25</th>\n",
       "      <td>14</td>\n",
       "      <td>14</td>\n",
       "      <td>14</td>\n",
       "      <td>14</td>\n",
       "      <td>14</td>\n",
       "    </tr>\n",
       "    <tr>\n",
       "      <th>26 - 35</th>\n",
       "      <td>68</td>\n",
       "      <td>68</td>\n",
       "      <td>68</td>\n",
       "      <td>68</td>\n",
       "      <td>68</td>\n",
       "    </tr>\n",
       "    <tr>\n",
       "      <th>36 - 45</th>\n",
       "      <td>29</td>\n",
       "      <td>29</td>\n",
       "      <td>29</td>\n",
       "      <td>29</td>\n",
       "      <td>29</td>\n",
       "    </tr>\n",
       "    <tr>\n",
       "      <th>46 - 55</th>\n",
       "      <td>2</td>\n",
       "      <td>2</td>\n",
       "      <td>2</td>\n",
       "      <td>2</td>\n",
       "      <td>2</td>\n",
       "    </tr>\n",
       "    <tr>\n",
       "      <th>46 - 55</th>\n",
       "      <td>20</td>\n",
       "      <td>20</td>\n",
       "      <td>20</td>\n",
       "      <td>20</td>\n",
       "      <td>20</td>\n",
       "    </tr>\n",
       "    <tr>\n",
       "      <th>56 - 65</th>\n",
       "      <td>4</td>\n",
       "      <td>4</td>\n",
       "      <td>4</td>\n",
       "      <td>4</td>\n",
       "      <td>4</td>\n",
       "    </tr>\n",
       "  </tbody>\n",
       "</table>\n",
       "</div>"
      ],
      "text/plain": [
       "                   I would recommend working here to a friend  \\\n",
       "What is your age?                                               \n",
       "21 - 25                                                    14   \n",
       "26 - 35                                                    68   \n",
       "36 - 45                                                    29   \n",
       "46 - 55                                                     2   \n",
       "46 - 55                                                    20   \n",
       "56 - 65                                                     4   \n",
       "\n",
       "                   How long have you worked for this organization?  \\\n",
       "What is your age?                                                    \n",
       "21 - 25                                                         14   \n",
       "26 - 35                                                         68   \n",
       "36 - 45                                                         29   \n",
       "46 - 55                                                          2   \n",
       "46 - 55                                                         20   \n",
       "56 - 65                                                          4   \n",
       "\n",
       "                   Department Coding  Designation Coding  \\\n",
       "What is your age?                                          \n",
       "21 - 25                           14                  14   \n",
       "26 - 35                           68                  68   \n",
       "36 - 45                           29                  29   \n",
       "46 - 55                            2                   2   \n",
       "46 - 55                           20                  20   \n",
       "56 - 65                            4                   4   \n",
       "\n",
       "                   Over all I am very satisfied with my Organization?  \n",
       "What is your age?                                                      \n",
       "21 - 25                                                           14   \n",
       "26 - 35                                                           68   \n",
       "36 - 45                                                           29   \n",
       "46 - 55                                                            2   \n",
       "46 - 55                                                           20   \n",
       "56 - 65                                                            4   "
      ]
     },
     "execution_count": 41,
     "metadata": {},
     "output_type": "execute_result"
    }
   ],
   "source": [
    "overall.groupby('What is your age?').agg('count')"
   ]
  },
  {
   "cell_type": "code",
   "execution_count": 42,
   "id": "e4a3c33c",
   "metadata": {},
   "outputs": [
    {
     "data": {
      "text/html": [
       "<div>\n",
       "<style scoped>\n",
       "    .dataframe tbody tr th:only-of-type {\n",
       "        vertical-align: middle;\n",
       "    }\n",
       "\n",
       "    .dataframe tbody tr th {\n",
       "        vertical-align: top;\n",
       "    }\n",
       "\n",
       "    .dataframe thead th {\n",
       "        text-align: right;\n",
       "    }\n",
       "</style>\n",
       "<table border=\"1\" class=\"dataframe\">\n",
       "  <thead>\n",
       "    <tr style=\"text-align: right;\">\n",
       "      <th></th>\n",
       "      <th>I would recommend working here to a friend</th>\n",
       "      <th>What is your age?</th>\n",
       "      <th>How long have you worked for this organization?</th>\n",
       "      <th>Department Coding</th>\n",
       "      <th>Over all I am very satisfied with my Organization?</th>\n",
       "    </tr>\n",
       "    <tr>\n",
       "      <th>Designation Coding</th>\n",
       "      <th></th>\n",
       "      <th></th>\n",
       "      <th></th>\n",
       "      <th></th>\n",
       "      <th></th>\n",
       "    </tr>\n",
       "  </thead>\n",
       "  <tbody>\n",
       "    <tr>\n",
       "      <th>A</th>\n",
       "      <td>47</td>\n",
       "      <td>47</td>\n",
       "      <td>47</td>\n",
       "      <td>47</td>\n",
       "      <td>47</td>\n",
       "    </tr>\n",
       "    <tr>\n",
       "      <th>B</th>\n",
       "      <td>58</td>\n",
       "      <td>58</td>\n",
       "      <td>58</td>\n",
       "      <td>58</td>\n",
       "      <td>58</td>\n",
       "    </tr>\n",
       "    <tr>\n",
       "      <th>C</th>\n",
       "      <td>17</td>\n",
       "      <td>17</td>\n",
       "      <td>17</td>\n",
       "      <td>17</td>\n",
       "      <td>17</td>\n",
       "    </tr>\n",
       "    <tr>\n",
       "      <th>D</th>\n",
       "      <td>15</td>\n",
       "      <td>15</td>\n",
       "      <td>15</td>\n",
       "      <td>15</td>\n",
       "      <td>15</td>\n",
       "    </tr>\n",
       "  </tbody>\n",
       "</table>\n",
       "</div>"
      ],
      "text/plain": [
       "                    I would recommend working here to a friend  \\\n",
       "Designation Coding                                               \n",
       "A                                                           47   \n",
       "B                                                           58   \n",
       "C                                                           17   \n",
       "D                                                           15   \n",
       "\n",
       "                    What is your age?  \\\n",
       "Designation Coding                      \n",
       "A                                  47   \n",
       "B                                  58   \n",
       "C                                  17   \n",
       "D                                  15   \n",
       "\n",
       "                    How long have you worked for this organization?  \\\n",
       "Designation Coding                                                    \n",
       "A                                                                47   \n",
       "B                                                                58   \n",
       "C                                                                17   \n",
       "D                                                                15   \n",
       "\n",
       "                    Department Coding  \\\n",
       "Designation Coding                      \n",
       "A                                  47   \n",
       "B                                  58   \n",
       "C                                  17   \n",
       "D                                  15   \n",
       "\n",
       "                    Over all I am very satisfied with my Organization?  \n",
       "Designation Coding                                                      \n",
       "A                                                                  47   \n",
       "B                                                                  58   \n",
       "C                                                                  17   \n",
       "D                                                                  15   "
      ]
     },
     "execution_count": 42,
     "metadata": {},
     "output_type": "execute_result"
    }
   ],
   "source": [
    "overall.groupby('Designation Coding').agg('count')"
   ]
  },
  {
   "cell_type": "code",
   "execution_count": 43,
   "id": "55e922e0",
   "metadata": {},
   "outputs": [
    {
     "data": {
      "text/html": [
       "<div>\n",
       "<style scoped>\n",
       "    .dataframe tbody tr th:only-of-type {\n",
       "        vertical-align: middle;\n",
       "    }\n",
       "\n",
       "    .dataframe tbody tr th {\n",
       "        vertical-align: top;\n",
       "    }\n",
       "\n",
       "    .dataframe thead th {\n",
       "        text-align: right;\n",
       "    }\n",
       "</style>\n",
       "<table border=\"1\" class=\"dataframe\">\n",
       "  <thead>\n",
       "    <tr style=\"text-align: right;\">\n",
       "      <th></th>\n",
       "      <th>I would recommend working here to a friend</th>\n",
       "      <th>What is your age?</th>\n",
       "      <th>How long have you worked for this organization?</th>\n",
       "      <th>Designation Coding</th>\n",
       "      <th>Over all I am very satisfied with my Organization?</th>\n",
       "    </tr>\n",
       "    <tr>\n",
       "      <th>Department Coding</th>\n",
       "      <th></th>\n",
       "      <th></th>\n",
       "      <th></th>\n",
       "      <th></th>\n",
       "      <th></th>\n",
       "    </tr>\n",
       "  </thead>\n",
       "  <tbody>\n",
       "    <tr>\n",
       "      <th>AO</th>\n",
       "      <td>21</td>\n",
       "      <td>21</td>\n",
       "      <td>21</td>\n",
       "      <td>21</td>\n",
       "      <td>21</td>\n",
       "    </tr>\n",
       "    <tr>\n",
       "      <th>ARD</th>\n",
       "      <td>18</td>\n",
       "      <td>18</td>\n",
       "      <td>18</td>\n",
       "      <td>18</td>\n",
       "      <td>18</td>\n",
       "    </tr>\n",
       "    <tr>\n",
       "      <th>DS</th>\n",
       "      <td>8</td>\n",
       "      <td>8</td>\n",
       "      <td>8</td>\n",
       "      <td>8</td>\n",
       "      <td>8</td>\n",
       "    </tr>\n",
       "    <tr>\n",
       "      <th>EOO</th>\n",
       "      <td>10</td>\n",
       "      <td>10</td>\n",
       "      <td>10</td>\n",
       "      <td>10</td>\n",
       "      <td>10</td>\n",
       "    </tr>\n",
       "    <tr>\n",
       "      <th>EORD</th>\n",
       "      <td>9</td>\n",
       "      <td>9</td>\n",
       "      <td>9</td>\n",
       "      <td>9</td>\n",
       "      <td>9</td>\n",
       "    </tr>\n",
       "    <tr>\n",
       "      <th>FA</th>\n",
       "      <td>18</td>\n",
       "      <td>18</td>\n",
       "      <td>18</td>\n",
       "      <td>18</td>\n",
       "      <td>18</td>\n",
       "    </tr>\n",
       "    <tr>\n",
       "      <th>IS</th>\n",
       "      <td>15</td>\n",
       "      <td>15</td>\n",
       "      <td>15</td>\n",
       "      <td>15</td>\n",
       "      <td>15</td>\n",
       "    </tr>\n",
       "    <tr>\n",
       "      <th>MKT</th>\n",
       "      <td>4</td>\n",
       "      <td>4</td>\n",
       "      <td>4</td>\n",
       "      <td>4</td>\n",
       "      <td>4</td>\n",
       "    </tr>\n",
       "    <tr>\n",
       "      <th>SCM</th>\n",
       "      <td>14</td>\n",
       "      <td>14</td>\n",
       "      <td>14</td>\n",
       "      <td>14</td>\n",
       "      <td>14</td>\n",
       "    </tr>\n",
       "    <tr>\n",
       "      <th>SS</th>\n",
       "      <td>20</td>\n",
       "      <td>20</td>\n",
       "      <td>20</td>\n",
       "      <td>20</td>\n",
       "      <td>20</td>\n",
       "    </tr>\n",
       "  </tbody>\n",
       "</table>\n",
       "</div>"
      ],
      "text/plain": [
       "                   I would recommend working here to a friend  \\\n",
       "Department Coding                                               \n",
       "AO                                                         21   \n",
       "ARD                                                        18   \n",
       "DS                                                          8   \n",
       "EOO                                                        10   \n",
       "EORD                                                        9   \n",
       "FA                                                         18   \n",
       "IS                                                         15   \n",
       "MKT                                                         4   \n",
       "SCM                                                        14   \n",
       "SS                                                         20   \n",
       "\n",
       "                   What is your age?  \\\n",
       "Department Coding                      \n",
       "AO                                21   \n",
       "ARD                               18   \n",
       "DS                                 8   \n",
       "EOO                               10   \n",
       "EORD                               9   \n",
       "FA                                18   \n",
       "IS                                15   \n",
       "MKT                                4   \n",
       "SCM                               14   \n",
       "SS                                20   \n",
       "\n",
       "                   How long have you worked for this organization?  \\\n",
       "Department Coding                                                    \n",
       "AO                                                              21   \n",
       "ARD                                                             18   \n",
       "DS                                                               8   \n",
       "EOO                                                             10   \n",
       "EORD                                                             9   \n",
       "FA                                                              18   \n",
       "IS                                                              15   \n",
       "MKT                                                              4   \n",
       "SCM                                                             14   \n",
       "SS                                                              20   \n",
       "\n",
       "                   Designation Coding  \\\n",
       "Department Coding                       \n",
       "AO                                 21   \n",
       "ARD                                18   \n",
       "DS                                  8   \n",
       "EOO                                10   \n",
       "EORD                                9   \n",
       "FA                                 18   \n",
       "IS                                 15   \n",
       "MKT                                 4   \n",
       "SCM                                14   \n",
       "SS                                 20   \n",
       "\n",
       "                   Over all I am very satisfied with my Organization?  \n",
       "Department Coding                                                      \n",
       "AO                                                                21   \n",
       "ARD                                                               18   \n",
       "DS                                                                 8   \n",
       "EOO                                                               10   \n",
       "EORD                                                               9   \n",
       "FA                                                                18   \n",
       "IS                                                                15   \n",
       "MKT                                                                4   \n",
       "SCM                                                               14   \n",
       "SS                                                                20   "
      ]
     },
     "execution_count": 43,
     "metadata": {},
     "output_type": "execute_result"
    }
   ],
   "source": [
    "overall.groupby('Department Coding').agg('count')"
   ]
  },
  {
   "cell_type": "code",
   "execution_count": 44,
   "id": "418d6cc2",
   "metadata": {},
   "outputs": [
    {
     "data": {
      "text/html": [
       "<div>\n",
       "<style scoped>\n",
       "    .dataframe tbody tr th:only-of-type {\n",
       "        vertical-align: middle;\n",
       "    }\n",
       "\n",
       "    .dataframe tbody tr th {\n",
       "        vertical-align: top;\n",
       "    }\n",
       "\n",
       "    .dataframe thead th {\n",
       "        text-align: right;\n",
       "    }\n",
       "</style>\n",
       "<table border=\"1\" class=\"dataframe\">\n",
       "  <thead>\n",
       "    <tr style=\"text-align: right;\">\n",
       "      <th></th>\n",
       "      <th>I would recommend working here to a friend</th>\n",
       "      <th>What is your age?</th>\n",
       "      <th>How long have you worked for this organization?</th>\n",
       "      <th>Department Coding</th>\n",
       "      <th>Designation Coding</th>\n",
       "    </tr>\n",
       "    <tr>\n",
       "      <th>Over all I am very satisfied with my Organization?</th>\n",
       "      <th></th>\n",
       "      <th></th>\n",
       "      <th></th>\n",
       "      <th></th>\n",
       "      <th></th>\n",
       "    </tr>\n",
       "  </thead>\n",
       "  <tbody>\n",
       "    <tr>\n",
       "      <th>0</th>\n",
       "      <td>2</td>\n",
       "      <td>2</td>\n",
       "      <td>2</td>\n",
       "      <td>2</td>\n",
       "      <td>2</td>\n",
       "    </tr>\n",
       "    <tr>\n",
       "      <th>2</th>\n",
       "      <td>8</td>\n",
       "      <td>8</td>\n",
       "      <td>8</td>\n",
       "      <td>8</td>\n",
       "      <td>8</td>\n",
       "    </tr>\n",
       "    <tr>\n",
       "      <th>3</th>\n",
       "      <td>2</td>\n",
       "      <td>2</td>\n",
       "      <td>2</td>\n",
       "      <td>2</td>\n",
       "      <td>2</td>\n",
       "    </tr>\n",
       "    <tr>\n",
       "      <th>Agree Somewhat</th>\n",
       "      <td>42</td>\n",
       "      <td>42</td>\n",
       "      <td>42</td>\n",
       "      <td>42</td>\n",
       "      <td>42</td>\n",
       "    </tr>\n",
       "    <tr>\n",
       "      <th>Agree Strongly</th>\n",
       "      <td>52</td>\n",
       "      <td>52</td>\n",
       "      <td>52</td>\n",
       "      <td>52</td>\n",
       "      <td>52</td>\n",
       "    </tr>\n",
       "    <tr>\n",
       "      <th>Disagree Strongly</th>\n",
       "      <td>3</td>\n",
       "      <td>3</td>\n",
       "      <td>3</td>\n",
       "      <td>3</td>\n",
       "      <td>3</td>\n",
       "    </tr>\n",
       "    <tr>\n",
       "      <th>Neutral</th>\n",
       "      <td>28</td>\n",
       "      <td>28</td>\n",
       "      <td>28</td>\n",
       "      <td>28</td>\n",
       "      <td>28</td>\n",
       "    </tr>\n",
       "  </tbody>\n",
       "</table>\n",
       "</div>"
      ],
      "text/plain": [
       "                                                    I would recommend working here to a friend  \\\n",
       "Over all I am very satisfied with my Organization?                                               \n",
       "0                                                                                            2   \n",
       "2                                                                                            8   \n",
       "3                                                                                            2   \n",
       "Agree Somewhat                                                                              42   \n",
       "Agree Strongly                                                                              52   \n",
       "Disagree Strongly                                                                            3   \n",
       "Neutral                                                                                     28   \n",
       "\n",
       "                                                    What is your age?  \\\n",
       "Over all I am very satisfied with my Organization?                      \n",
       "0                                                                   2   \n",
       "2                                                                   8   \n",
       "3                                                                   2   \n",
       "Agree Somewhat                                                     42   \n",
       "Agree Strongly                                                     52   \n",
       "Disagree Strongly                                                   3   \n",
       "Neutral                                                            28   \n",
       "\n",
       "                                                    How long have you worked for this organization?  \\\n",
       "Over all I am very satisfied with my Organization?                                                    \n",
       "0                                                                                                 2   \n",
       "2                                                                                                 8   \n",
       "3                                                                                                 2   \n",
       "Agree Somewhat                                                                                   42   \n",
       "Agree Strongly                                                                                   52   \n",
       "Disagree Strongly                                                                                 3   \n",
       "Neutral                                                                                          28   \n",
       "\n",
       "                                                    Department Coding  \\\n",
       "Over all I am very satisfied with my Organization?                      \n",
       "0                                                                   2   \n",
       "2                                                                   8   \n",
       "3                                                                   2   \n",
       "Agree Somewhat                                                     42   \n",
       "Agree Strongly                                                     52   \n",
       "Disagree Strongly                                                   3   \n",
       "Neutral                                                            28   \n",
       "\n",
       "                                                    Designation Coding  \n",
       "Over all I am very satisfied with my Organization?                      \n",
       "0                                                                    2  \n",
       "2                                                                    8  \n",
       "3                                                                    2  \n",
       "Agree Somewhat                                                      42  \n",
       "Agree Strongly                                                      52  \n",
       "Disagree Strongly                                                    3  \n",
       "Neutral                                                             28  "
      ]
     },
     "execution_count": 44,
     "metadata": {},
     "output_type": "execute_result"
    }
   ],
   "source": [
    "overall.groupby('Over all I am very satisfied with my Organization?').agg('count')"
   ]
  },
  {
   "cell_type": "markdown",
   "id": "3beb5acf",
   "metadata": {},
   "source": [
    "# Over all I am very satisfied with my Organization"
   ]
  },
  {
   "cell_type": "code",
   "execution_count": 45,
   "id": "83e886d2",
   "metadata": {
    "scrolled": true
   },
   "outputs": [
    {
     "data": {
      "text/plain": [
       "<AxesSubplot:xlabel='Over all I am very satisfied with my Organization?', ylabel='count'>"
      ]
     },
     "execution_count": 45,
     "metadata": {},
     "output_type": "execute_result"
    },
    {
     "data": {
      "image/png": "[encoded data removed]",
      "text/plain": [
       "<Figure size 432x288 with 1 Axes>"
      ]
     },
     "metadata": {},
     "output_type": "display_data"
    }
   ],
   "source": [
    "sns.countplot(x=\"Over all I am very satisfied with my Organization?\",hue=\"Designation Coding\",data=overall)"
   ]
  },
  {
   "cell_type": "code",
   "execution_count": 46,
   "id": "724965fc",
   "metadata": {
    "scrolled": false
   },
   "outputs": [
    {
     "data": {
      "text/plain": [
       "<AxesSubplot:xlabel='Over all I am very satisfied with my Organization?', ylabel='count'>"
      ]
     },
     "execution_count": 46,
     "metadata": {},
     "output_type": "execute_result"
    },
    {
     "data": {
      "image/png": "[encoded data removed]",
      "text/plain": [
       "<Figure size 432x288 with 1 Axes>"
      ]
     },
     "metadata": {},
     "output_type": "display_data"
    }
   ],
   "source": [
    "sns.countplot(x=\"Over all I am very satisfied with my Organization?\",hue=\"Department Coding\",data=overall)"
   ]
  },
  {
   "cell_type": "code",
   "execution_count": 47,
   "id": "5da6bb7e",
   "metadata": {},
   "outputs": [
    {
     "data": {
      "text/plain": [
       "<AxesSubplot:xlabel='Over all I am very satisfied with my Organization?', ylabel='count'>"
      ]
     },
     "execution_count": 47,
     "metadata": {},
     "output_type": "execute_result"
    },
    {
     "data": {
      "image/png": "[encoded data removed]",
      "text/plain": [
       "<Figure size 432x288 with 1 Axes>"
      ]
     },
     "metadata": {},
     "output_type": "display_data"
    }
   ],
   "source": [
    "sns.countplot(x=\"Over all I am very satisfied with my Organization?\",hue=\"What is your age?\",data=overall)"
   ]
  },
  {
   "cell_type": "code",
   "execution_count": 48,
   "id": "51c20a93",
   "metadata": {},
   "outputs": [
    {
     "data": {
      "text/plain": [
       "<AxesSubplot:xlabel='Over all I am very satisfied with my Organization?', ylabel='count'>"
      ]
     },
     "execution_count": 48,
     "metadata": {},
     "output_type": "execute_result"
    },
    {
     "data": {
      "image/png": "[encoded data removed]",
      "text/plain": [
       "<Figure size 432x288 with 1 Axes>"
      ]
     },
     "metadata": {},
     "output_type": "display_data"
    }
   ],
   "source": [
    "sns.countplot(x=\"Over all I am very satisfied with my Organization?\",hue=\"How long have you worked for this organization?\",data=overall)"
   ]
  },
  {
   "cell_type": "code",
   "execution_count": 49,
   "id": "e4a02210",
   "metadata": {
    "scrolled": false
   },
   "outputs": [
    {
     "data": {
      "image/png": "[encoded data removed]",
      "text/plain": [
       "<Figure size 455x1440 with 4 Axes>"
      ]
     },
     "metadata": {},
     "output_type": "display_data"
    }
   ],
   "source": [
    "sns.factorplot(x=\"Over all I am very satisfied with my Organization?\",data=overall,hue=\"Department Coding\",row=\"Designation Coding\",kind=\"count\")\n",
    "plt.show()"
   ]
  },
  {
   "cell_type": "code",
   "execution_count": 50,
   "id": "ca78110a",
   "metadata": {
    "scrolled": false
   },
   "outputs": [
    {
     "data": {
      "image/png": "[encoded data removed]",
      "text/plain": [
       "<Figure size 455.875x3600 with 10 Axes>"
      ]
     },
     "metadata": {},
     "output_type": "display_data"
    }
   ],
   "source": [
    "sns.factorplot(x=\"Over all I am very satisfied with my Organization?\",data=overall,hue=\"Designation Coding\",row=\"Department Coding\",kind=\"count\")\n",
    "plt.show()"
   ]
  },
  {
   "cell_type": "code",
   "execution_count": 51,
   "id": "b23fb495",
   "metadata": {},
   "outputs": [],
   "source": [
    "#Answering Specific Questions Through Data"
   ]
  },
  {
   "cell_type": "code",
   "execution_count": 52,
   "id": "b2305f7e",
   "metadata": {},
   "outputs": [
    {
     "data": {
      "image/png": "[encoded data removed]",
      "text/plain": [
       "<Figure size 576x432 with 2 Axes>"
      ]
     },
     "metadata": {},
     "output_type": "display_data"
    }
   ],
   "source": [
    "# Use Spearman instead of default Pearson, since these \n",
    "# are ordinal variables!\n",
    "corr_matrix = overall.corr(method='spearman')\n",
    "\n",
    "# Setup\n",
    "fig, ax = plt.subplots(figsize=(8, 6))\n",
    "\n",
    "# vmin and vmax control the range of the colormap\n",
    "sns.heatmap(corr_matrix, cmap='RdBu', annot=True, fmt='.2f',\n",
    "           vmin=-1, vmax=1)\n",
    "\n",
    "plt.title(\"Correlations Between The Aspects\")\n",
    "#plt.savefig('sdbp_photos/corrs.png')\n",
    "plt.show()"
   ]
  },
  {
   "cell_type": "code",
   "execution_count": null,
   "id": "f0038e15",
   "metadata": {},
   "outputs": [],
   "source": []
  },
  {
   "cell_type": "code",
   "execution_count": null,
   "id": "d55c60e0",
   "metadata": {},
   "outputs": [],
   "source": []
  },
  {
   "cell_type": "code",
   "execution_count": null,
   "id": "2e25e305",
   "metadata": {},
   "outputs": [],
   "source": []
  },
  {
   "cell_type": "code",
   "execution_count": null,
   "id": "8538f504",
   "metadata": {},
   "outputs": [],
   "source": []
  },
  {
   "cell_type": "code",
   "execution_count": null,
   "id": "b0d155f8",
   "metadata": {},
   "outputs": [],
   "source": []
  },
  {
   "cell_type": "code",
   "execution_count": null,
   "id": "85a06545",
   "metadata": {},
   "outputs": [],
   "source": []
  },
  {
   "cell_type": "code",
   "execution_count": null,
   "id": "e412637d",
   "metadata": {},
   "outputs": [],
   "source": []
  },
  {
   "cell_type": "code",
   "execution_count": null,
   "id": "250eabfa",
   "metadata": {},
   "outputs": [],
   "source": []
  },
  {
   "cell_type": "code",
   "execution_count": null,
   "id": "77b87831",
   "metadata": {},
   "outputs": [],
   "source": []
  },
  {
   "cell_type": "code",
   "execution_count": null,
   "id": "0fc9f5f7",
   "metadata": {},
   "outputs": [],
   "source": []
  },
  {
   "cell_type": "code",
   "execution_count": null,
   "id": "70a85464",
   "metadata": {},
   "outputs": [],
   "source": []
  },
  {
   "cell_type": "code",
   "execution_count": null,
   "id": "4cad8ca2",
   "metadata": {},
   "outputs": [],
   "source": []
  },
  {
   "cell_type": "code",
   "execution_count": null,
   "id": "38c80616",
   "metadata": {},
   "outputs": [],
   "source": []
  },
  {
   "cell_type": "code",
   "execution_count": null,
   "id": "5396a4b1",
   "metadata": {},
   "outputs": [],
   "source": []
  },
  {
   "cell_type": "code",
   "execution_count": null,
   "id": "80d80cfb",
   "metadata": {},
   "outputs": [],
   "source": []
  },
  {
   "cell_type": "code",
   "execution_count": null,
   "id": "2937ff87",
   "metadata": {},
   "outputs": [],
   "source": []
  },
  {
   "cell_type": "code",
   "execution_count": null,
   "id": "377c11a0",
   "metadata": {},
   "outputs": [],
   "source": []
  },
  {
   "cell_type": "code",
   "execution_count": null,
   "id": "bdd80045",
   "metadata": {},
   "outputs": [],
   "source": []
  },
  {
   "cell_type": "code",
   "execution_count": null,
   "id": "164e8fea",
   "metadata": {},
   "outputs": [],
   "source": []
  },
  {
   "cell_type": "code",
   "execution_count": null,
   "id": "0aca3b8f",
   "metadata": {},
   "outputs": [],
   "source": []
  },
  {
   "cell_type": "code",
   "execution_count": null,
   "id": "aa831f85",
   "metadata": {},
   "outputs": [],
   "source": []
  },
  {
   "cell_type": "code",
   "execution_count": null,
   "id": "cef34d7b",
   "metadata": {},
   "outputs": [],
   "source": []
  },
  {
   "cell_type": "code",
   "execution_count": null,
   "id": "ab473bba",
   "metadata": {},
   "outputs": [],
   "source": []
  },
  {
   "cell_type": "code",
   "execution_count": null,
   "id": "f272023c",
   "metadata": {},
   "outputs": [],
   "source": []
  },
  {
   "cell_type": "code",
   "execution_count": null,
   "id": "c0be8592",
   "metadata": {},
   "outputs": [],
   "source": []
  },
  {
   "cell_type": "code",
   "execution_count": null,
   "id": "8903bd05",
   "metadata": {
    "scrolled": true
   },
   "outputs": [],
   "source": [
    "pip install -U notebook-as-pdf"
   ]
  },
  {
   "cell_type": "code",
   "execution_count": null,
   "id": "c0430c4b",
   "metadata": {
    "scrolled": true
   },
   "outputs": [],
   "source": [
    "pip install -U notebook-as-pdf"
   ]
  },
  {
   "cell_type": "code",
   "execution_count": null,
   "id": "bc864c3c",
   "metadata": {
    "scrolled": true
   },
   "outputs": [],
   "source": [
    "pip install nbconvert"
   ]
  },
  {
   "cell_type": "code",
   "execution_count": null,
   "id": "189aa960",
   "metadata": {
    "scrolled": true
   },
   "outputs": [],
   "source": [
    " pip install nbconvert[webpdf]"
   ]
  },
  {
   "cell_type": "code",
   "execution_count": null,
   "id": "ecb974ca",
   "metadata": {},
   "outputs": [],
   "source": []
  },
  {
   "cell_type": "code",
   "execution_count": null,
   "id": "c65f00b4",
   "metadata": {},
   "outputs": [],
   "source": []
  },
  {
   "cell_type": "code",
   "execution_count": null,
   "id": "8ce53b28",
   "metadata": {},
   "outputs": [],
   "source": []
  },
  {
   "cell_type": "code",
   "execution_count": null,
   "id": "8f70eeb2",
   "metadata": {},
   "outputs": [],
   "source": []
  },
  {
   "cell_type": "code",
   "execution_count": null,
   "id": "400e6328",
   "metadata": {},
   "outputs": [],
   "source": []
  },
  {
   "cell_type": "code",
   "execution_count": null,
   "id": "07d4635e",
   "metadata": {},
   "outputs": [],
   "source": []
  },
  {
   "cell_type": "code",
   "execution_count": null,
   "id": "94bbe3af",
   "metadata": {},
   "outputs": [],
   "source": []
  },
  {
   "cell_type": "code",
   "execution_count": null,
   "id": "49327c7f",
   "metadata": {},
   "outputs": [],
   "source": []
  },
  {
   "cell_type": "code",
   "execution_count": null,
   "id": "c47f0ba6",
   "metadata": {},
   "outputs": [],
   "source": []
  },
  {
   "cell_type": "code",
   "execution_count": null,
   "id": "ee0419f2",
   "metadata": {},
   "outputs": [],
   "source": []
  },
  {
   "cell_type": "code",
   "execution_count": null,
   "id": "736af6cc",
   "metadata": {},
   "outputs": [],
   "source": []
  },
  {
   "cell_type": "code",
   "execution_count": null,
   "id": "51da80d1",
   "metadata": {},
   "outputs": [],
   "source": []
  },
  {
   "cell_type": "code",
   "execution_count": null,
   "id": "95c5d30c",
   "metadata": {},
   "outputs": [],
   "source": []
  },
  {
   "cell_type": "code",
   "execution_count": null,
   "id": "e2c12403",
   "metadata": {},
   "outputs": [],
   "source": []
  },
  {
   "cell_type": "code",
   "execution_count": null,
   "id": "5c2350cf",
   "metadata": {},
   "outputs": [],
   "source": []
  },
  {
   "cell_type": "code",
   "execution_count": null,
   "id": "66a3a30a",
   "metadata": {},
   "outputs": [],
   "source": []
  },
  {
   "cell_type": "code",
   "execution_count": null,
   "id": "b6c97e87",
   "metadata": {},
   "outputs": [],
   "source": []
  },
  {
   "cell_type": "code",
   "execution_count": null,
   "id": "363c9618",
   "metadata": {},
   "outputs": [],
   "source": []
  },
  {
   "cell_type": "code",
   "execution_count": null,
   "id": "338f7ed0",
   "metadata": {},
   "outputs": [],
   "source": []
  },
  {
   "cell_type": "code",
   "execution_count": null,
   "id": "8fa993a5",
   "metadata": {},
   "outputs": [],
   "source": []
  },
  {
   "cell_type": "code",
   "execution_count": null,
   "id": "702957dc",
   "metadata": {},
   "outputs": [],
   "source": []
  },
  {
   "cell_type": "code",
   "execution_count": null,
   "id": "866060d1",
   "metadata": {},
   "outputs": [],
   "source": []
  },
  {
   "cell_type": "code",
   "execution_count": null,
   "id": "09c56e24",
   "metadata": {},
   "outputs": [],
   "source": []
  },
  {
   "cell_type": "code",
   "execution_count": null,
   "id": "98dbd3be",
   "metadata": {},
   "outputs": [],
   "source": []
  },
  {
   "cell_type": "code",
   "execution_count": null,
   "id": "dd9a0706",
   "metadata": {},
   "outputs": [],
   "source": []
  },
  {
   "cell_type": "code",
   "execution_count": null,
   "id": "52e178b0",
   "metadata": {},
   "outputs": [],
   "source": []
  },
  {
   "cell_type": "code",
   "execution_count": null,
   "id": "057a5a3b",
   "metadata": {},
   "outputs": [],
   "source": []
  },
  {
   "cell_type": "code",
   "execution_count": null,
   "id": "ac9af2bf",
   "metadata": {},
   "outputs": [],
   "source": []
  },
  {
   "cell_type": "code",
   "execution_count": null,
   "id": "b73111da",
   "metadata": {},
   "outputs": [],
   "source": []
  },
  {
   "cell_type": "code",
   "execution_count": null,
   "id": "80f6b08c",
   "metadata": {},
   "outputs": [],
   "source": []
  },
  {
   "cell_type": "code",
   "execution_count": null,
   "id": "e8a5f428",
   "metadata": {},
   "outputs": [],
   "source": []
  },
  {
   "cell_type": "code",
   "execution_count": null,
   "id": "1bd701e5",
   "metadata": {},
   "outputs": [],
   "source": []
  },
  {
   "cell_type": "code",
   "execution_count": null,
   "id": "c63c4531",
   "metadata": {},
   "outputs": [],
   "source": []
  },
  {
   "cell_type": "code",
   "execution_count": null,
   "id": "a8ea3872",
   "metadata": {},
   "outputs": [],
   "source": []
  },
  {
   "cell_type": "code",
   "execution_count": null,
   "id": "715e8247",
   "metadata": {},
   "outputs": [],
   "source": []
  },
  {
   "cell_type": "code",
   "execution_count": null,
   "id": "2942c4cc",
   "metadata": {},
   "outputs": [],
   "source": []
  },
  {
   "cell_type": "code",
   "execution_count": null,
   "id": "52dfb1d0",
   "metadata": {},
   "outputs": [],
   "source": []
  },
  {
   "cell_type": "code",
   "execution_count": null,
   "id": "4b03e175",
   "metadata": {},
   "outputs": [],
   "source": []
  },
  {
   "cell_type": "code",
   "execution_count": null,
   "id": "e7fa2c73",
   "metadata": {},
   "outputs": [],
   "source": []
  },
  {
   "cell_type": "code",
   "execution_count": null,
   "id": "989e0775",
   "metadata": {},
   "outputs": [],
   "source": []
  },
  {
   "cell_type": "code",
   "execution_count": null,
   "id": "f8d5e2f6",
   "metadata": {},
   "outputs": [],
   "source": []
  },
  {
   "cell_type": "code",
   "execution_count": null,
   "id": "9e02e1f5",
   "metadata": {},
   "outputs": [],
   "source": []
  },
  {
   "cell_type": "code",
   "execution_count": null,
   "id": "fa42e0d5",
   "metadata": {},
   "outputs": [],
   "source": []
  },
  {
   "cell_type": "code",
   "execution_count": null,
   "id": "5303bc3e",
   "metadata": {},
   "outputs": [],
   "source": []
  },
  {
   "cell_type": "code",
   "execution_count": null,
   "id": "d01555c4",
   "metadata": {},
   "outputs": [],
   "source": [
    "DF.loc[(df['Designation Coding'] == 'A')].value_counts().sum()"
   ]
  },
  {
   "cell_type": "code",
   "execution_count": null,
   "id": "5bbcebef",
   "metadata": {},
   "outputs": [],
   "source": [
    "DF.loc[(df['Department Coding'] == 'SS')].value_counts().sum()"
   ]
  },
  {
   "cell_type": "code",
   "execution_count": null,
   "id": "ff05b278",
   "metadata": {},
   "outputs": [],
   "source": []
  },
  {
   "cell_type": "code",
   "execution_count": null,
   "id": "8d8d83c6",
   "metadata": {},
   "outputs": [],
   "source": []
  },
  {
   "cell_type": "code",
   "execution_count": null,
   "id": "b520c7a7",
   "metadata": {},
   "outputs": [],
   "source": []
  },
  {
   "cell_type": "code",
   "execution_count": null,
   "id": "901d001d",
   "metadata": {},
   "outputs": [],
   "source": [
    "# Subset the columns from when the question \"What was the most...\" is asked, \n",
    "# through to all the available answers. Easiest to use .iloc for this\n",
    "#survey_data.iloc[:5, 3:7]\n",
    "\n",
    "# Next, assign it to a separate variable corresponding to your question\n",
    "important_consideration = survey_data.iloc[:, 3:7]\n",
    "Great. We have the answers in a variable now. But when we go to plot this data, it's not going to look very good, because of the misnamed columns. Let's write up a quick function to make renaming the columns simple:\n",
    "\n"
   ]
  },
  {
   "cell_type": "code",
   "execution_count": null,
   "id": "79bd65e5",
   "metadata": {},
   "outputs": [],
   "source": []
  },
  {
   "cell_type": "code",
   "execution_count": null,
   "id": "6c86c647",
   "metadata": {},
   "outputs": [],
   "source": [
    "#def age_group(age):\n",
    "    \n",
    "    \"\"\"Creates an age bucket for each participant using the age variable.\n",
    "        Meant to be used on a DataFrame with .apply().\"\"\"\n",
    "    \n",
    "    # Convert to an int, in case the data is read in as an \"object\" (aka string)\n",
    "    age = str(age)\n",
    "    \n",
    "    if age in (21 - 25):\n",
    "        bucket = '21-25'\n",
    "    \n",
    "    if age in (26 - 35):\n",
    "        bucket = '26-35'\n",
    "        \n",
    "    if age in (36 - 45):\n",
    "        bucket = '36-45'\n",
    "        \n",
    "    if age in (46 - 55):\n",
    "        bucket = '46-55'\n",
    "\n",
    "    return bucket "
   ]
  },
  {
   "cell_type": "code",
   "execution_count": null,
   "id": "06a5bff4",
   "metadata": {},
   "outputs": [],
   "source": []
  },
  {
   "cell_type": "code",
   "execution_count": null,
   "id": "7e356276",
   "metadata": {},
   "outputs": [],
   "source": [
    "#def org_work_tenure(work_tenure):\n",
    "    \n",
    "    \"\"\"Creates an age bucket for each participant using the age variable.\n",
    "        Meant to be used on a DataFrame with .apply().\"\"\"\n",
    "    \n",
    "    # Convert to an int, in case the data is read in as an \"object\" (aka string)\n",
    "    work_tenure = str(work_tenure)\n",
    "    \n",
    "    if work_tenure in ('>1 Yr'):\n",
    "        bucket = '0-1'\n",
    "    \n",
    "    if work_tenure in ('1 Yr to > 3 Yrs'):\n",
    "        bucket = '1-3'\n",
    "        \n",
    "    if work_tenure in ('3 Yrs to >5 Yrs'):\n",
    "        bucket = '3-5'\n",
    "        \n",
    "    if work_tenure in ('5 Yrs to >10 Yrs'):\n",
    "        bucket = '5-10'\n",
    "   \n",
    "    if work_tenure in ('<=10 Years'):\n",
    "        bucket = '10-15'\n",
    "\n",
    "    return bucket "
   ]
  },
  {
   "cell_type": "code",
   "execution_count": null,
   "id": "f30af944",
   "metadata": {},
   "outputs": [],
   "source": []
  },
  {
   "cell_type": "code",
   "execution_count": null,
   "id": "cf0182c2",
   "metadata": {},
   "outputs": [],
   "source": [
    "#def Dsgn_code(dsgn_code):\n",
    "    \n",
    "#    \"\"\"Creates an age bucket for each participant using the age variable.\n",
    "#        Meant to be used on a DataFrame with .apply().\"\"\"\n",
    "    \n",
    "    # Convert to an int, in case the data is read in as an \"object\" (aka string)\n",
    "#    dsgn_code = str(dsgn_code)\n",
    "    \n",
    "#    if dsgn_code in ('A'):\n",
    "#        bucket = 'A'\n",
    "    \n",
    "#    if dsgn_code in ('B'):\n",
    "#        bucket = 'B'\n",
    "        \n",
    "#    if dsgn_code in ('C'):  \n",
    "#        bucket = 'C'\n",
    "        \n",
    "#   if dsgn_code in ('D'):\n",
    "#       bucket = 'D'   \n",
    "\n",
    "#    return bucket "
   ]
  },
  {
   "cell_type": "code",
   "execution_count": null,
   "id": "ca01bd7e",
   "metadata": {},
   "outputs": [],
   "source": []
  },
  {
   "cell_type": "code",
   "execution_count": null,
   "id": "a3ba4de8",
   "metadata": {},
   "outputs": [],
   "source": [
    "#def Dept_code(dept_code):\n",
    "    \n",
    "#    \"\"\"Creates an age bucket for each participant using the age variable.\n",
    "#        Meant to be used on a DataFrame with .apply().\"\"\"\n",
    "    \n",
    "#    # Convert to an str, in case the data is read in as an \"object\" \n",
    "#    dept_code = str(dept_code)\n",
    "    \n",
    "#    if dept_code in ('EORD'):\n",
    "#        bucket = 'EORD'\n",
    "    \n",
    "#    if dept_code in ('FA'):\n",
    "#        bucket = 'FA'\n",
    "        \n",
    "#    if dept_code in ('MKT'):\n",
    "        bucket = 'MKT'\n",
    "        \n",
    "    if dept_code in ('SCM'):\n",
    "        bucket = 'SCM'\n",
    "   \n",
    "    if dept_code in ('IS'):\n",
    "        bucket = 'IS'\n",
    "        \n",
    "    if dept_code in ('SS'):\n",
    "        bucket = 'SS'    \n",
    "\n",
    "    return bucket "
   ]
  },
  {
   "cell_type": "code",
   "execution_count": null,
   "id": "01552981",
   "metadata": {},
   "outputs": [],
   "source": [
    "df['age_group'] = df['What is your age?'].apply(age_group)\n",
    "\n",
    "df['age_group'].head(3)"
   ]
  },
  {
   "cell_type": "code",
   "execution_count": null,
   "id": "64a8e177",
   "metadata": {},
   "outputs": [],
   "source": [
    "df['org_work_tenure'] = df['How long have you worked for this organization?'].apply(org_work_tenure)\n",
    "\n",
    "df['org_work_tenure'].head(3)"
   ]
  },
  {
   "cell_type": "code",
   "execution_count": null,
   "id": "fa1d4d4e",
   "metadata": {},
   "outputs": [],
   "source": [
    "df['Dsgn_code'] = df['Designation Coding'].apply(Dsgn_code)\n",
    "\n",
    "df['Dsgn_code'].head(3)"
   ]
  },
  {
   "cell_type": "code",
   "execution_count": null,
   "id": "518280d0",
   "metadata": {},
   "outputs": [],
   "source": [
    "df['Dept_code'] = df['Department Coding'].apply(Dept_code)\n",
    "\n",
    "df['Dept_code'].head(3)"
   ]
  },
  {
   "cell_type": "code",
   "execution_count": null,
   "id": "584d8b42",
   "metadata": {},
   "outputs": [],
   "source": []
  },
  {
   "cell_type": "code",
   "execution_count": null,
   "id": "dfed38b4",
   "metadata": {},
   "outputs": [],
   "source": [
    "# Subset the columns from when the question \"What was the most...\" is asked, \n",
    "# through to all the available answers. Easiest to use .iloc for this\n",
    "survey_data.iloc[:5, 3:7]"
   ]
  },
  {
   "cell_type": "code",
   "execution_count": null,
   "id": "8287578b",
   "metadata": {},
   "outputs": [],
   "source": [
    "# Next, assign it to a separate variable corresponding to your question\n",
    "important_consideration = survey_data.iloc[:, 3:7]"
   ]
  },
  {
   "cell_type": "code",
   "execution_count": null,
   "id": "d0d4bec5",
   "metadata": {},
   "outputs": [],
   "source": [
    "def rename_columns(df, new_names_list):\n",
    "    \n",
    "    \"\"\"Takes a DataFrame that needs to be renamed and a list of the new\n",
    "        column names, and returns the renamed DataFrame. Make sure the \n",
    "        number of columns in the df matches the list length exactly,\n",
    "        or function will not work as intended.\"\"\"\n",
    "    \n",
    "    rename_dict = dict(zip(df.columns, new_names_list))\n",
    "    df = df.rename(mapper=rename_dict, axis=1)\n",
    "    \n",
    "    return df"
   ]
  },
  {
   "cell_type": "code",
   "execution_count": null,
   "id": "bf2a0c0d",
   "metadata": {},
   "outputs": [],
   "source": []
  },
  {
   "cell_type": "code",
   "execution_count": null,
   "id": "7b83e9f3",
   "metadata": {},
   "outputs": [],
   "source": [
    "#Remember headers from earlier? We can use it to create our new_names_list for renaming.\n",
    "\n",
    "headers[3:7].values\n",
    "#array(['Location', 'Price', 'Positive Reviews', 'Personalization'],\n",
    "      dtype=object)"
   ]
  },
  {
   "cell_type": "code",
   "execution_count": null,
   "id": "f5d7bd08",
   "metadata": {},
   "outputs": [],
   "source": [
    "ic_col_names = headers[3:7].values\n",
    "\n",
    "important_consideration = rename_columns(important_consideration, ic_col_names)\n",
    "\n",
    "# Now tack on age_group from the original DataFrame so we can use .groupby\n",
    "# (You could also use pd.concat, but I find this easier)\n",
    "important_consideration['age_group'] = survey_data['age_group']\n",
    "\n",
    "important_consideration.head(3)"
   ]
  },
  {
   "cell_type": "code",
   "execution_count": null,
   "id": "21a19b62",
   "metadata": {},
   "outputs": [],
   "source": []
  },
  {
   "cell_type": "code",
   "execution_count": null,
   "id": "51dbba98",
   "metadata": {},
   "outputs": [],
   "source": [
    "consideration_grouped = important_consideration.groupby('age_group').agg('count')\n",
    "\n",
    "consideration_grouped"
   ]
  },
  {
   "cell_type": "code",
   "execution_count": null,
   "id": "78bd9e08",
   "metadata": {},
   "outputs": [],
   "source": []
  },
  {
   "cell_type": "code",
   "execution_count": null,
   "id": "529661c3",
   "metadata": {},
   "outputs": [],
   "source": [
    "consideration_grouped[:-1].sort_index(ascending=False).plot(\n",
    "    kind='barh',\n",
    "    figsize=(10, 10),\n",
    "    cmap='rocket',\n",
    "    edgecolor='black',\n",
    "    fontsize=14,\n",
    "    title='Most Important Consideration By Age Group'\n",
    "    ).yaxis.label.set_visible(False)\n",
    "\n",
    "plt.savefig('sdbp_photos/consideration_by_age_large.png')"
   ]
  },
  {
   "cell_type": "code",
   "execution_count": null,
   "id": "0aae93bc",
   "metadata": {},
   "outputs": [],
   "source": []
  },
  {
   "cell_type": "code",
   "execution_count": null,
   "id": "4493fe37",
   "metadata": {},
   "outputs": [],
   "source": [
    "def plot_counts_by_age_group(groupby_count_obj, age_group, ax=None):\n",
    "    \n",
    "    \"\"\"Takes a count-aggregated groupby object, an age group, and an \n",
    "    (optional) AxesSubplot, and draws a barplot for that group.\"\"\"\n",
    "    \n",
    "    sort_order = groupby_count_obj.loc[age_group].sort_index().index\n",
    "\n",
    "    sns.barplot(y = groupby_count_obj.loc[age_group].index, \n",
    "                x = groupby_count_obj.loc[age_group].values, \n",
    "                order = sort_order, \n",
    "                palette = 'rocket', edgecolor = 'black', \n",
    "                ax = ax\n",
    "                ).set_title(\"Age {}\".format(age_group))"
   ]
  },
  {
   "cell_type": "code",
   "execution_count": null,
   "id": "f65c2242",
   "metadata": {},
   "outputs": [],
   "source": []
  },
  {
   "cell_type": "code",
   "execution_count": null,
   "id": "2d73ec46",
   "metadata": {},
   "outputs": [],
   "source": [
    "# Setup for the 2x2 subplot grid\n",
    "# Note we don't want to share the x axis since we have counts\n",
    "fig, ax = plt.subplots(nrows=2, ncols=2, figsize=(8, 6), sharey=True)\n",
    "\n",
    "# ax.flatten() avoids having to explicitly reference a subplot index in ax\n",
    "# Use consideration_grouped.index[:-1] because we're not plotting the under-30s\n",
    "for subplot, age_group in zip(ax.flatten(), list(consideration_grouped.index)[:-1]):\n",
    "    plot_counts_by_age_group(consideration_grouped, age_group, ax=subplot)\n",
    "    \n",
    "plt.savefig('sdbp_photos/consideration_by_age.png')\n",
    "plt.tight_layout()"
   ]
  },
  {
   "cell_type": "code",
   "execution_count": null,
   "id": "51a9451d",
   "metadata": {},
   "outputs": [],
   "source": []
  },
  {
   "cell_type": "code",
   "execution_count": null,
   "id": "0ab816dc",
   "metadata": {},
   "outputs": [],
   "source": []
  },
  {
   "cell_type": "code",
   "execution_count": null,
   "id": "38cc5190",
   "metadata": {},
   "outputs": [],
   "source": []
  },
  {
   "cell_type": "code",
   "execution_count": null,
   "id": "d3ed56bf",
   "metadata": {},
   "outputs": [],
   "source": []
  },
  {
   "cell_type": "code",
   "execution_count": null,
   "id": "5f7c264d",
   "metadata": {},
   "outputs": [],
   "source": [
    "df = df[['Department Coding', 'Designation Coding' , 'How long have you worked for this organization?' , 'What is your age?' , 'Organization Leadership & Planning' , 'Organization Culture and Communication' , 'Your Role in the Organization' , 'Employee Development' , 'Pay & Benefits' , 'Employee Engagement' , 'Over all I am very satisfied with my Organization?']]"
   ]
  },
  {
   "cell_type": "code",
   "execution_count": null,
   "id": "26647002",
   "metadata": {},
   "outputs": [],
   "source": [
    "frequencies = {}\n",
    "for i in df.columns:\n",
    "    frequencies[i] = df[i].value_counts()"
   ]
  },
  {
   "cell_type": "code",
   "execution_count": null,
   "id": "c1e91db8",
   "metadata": {},
   "outputs": [],
   "source": [
    "df = pd.DataFrame(frequencies)\n",
    "df"
   ]
  },
  {
   "cell_type": "code",
   "execution_count": null,
   "id": "17496a6d",
   "metadata": {},
   "outputs": [],
   "source": [
    "mycode = {'Neutral' : 0, 'Disagree Strongly': 1, 'Somewhat Disagree' : 2, 'Agree' : 3, 'Agree Somewhat' : 4, 'Agree Strongly':5 }"
   ]
  },
  {
   "cell_type": "code",
   "execution_count": null,
   "id": "ee7423af",
   "metadata": {},
   "outputs": [],
   "source": [
    "for i in df.columns:\n",
    "    df[i] = df[i].replace(mycode)\n",
    "    \n",
    "    "
   ]
  },
  {
   "cell_type": "code",
   "execution_count": null,
   "id": "d0d00c28",
   "metadata": {},
   "outputs": [],
   "source": [
    "df"
   ]
  },
  {
   "cell_type": "code",
   "execution_count": null,
   "id": "064f4942",
   "metadata": {},
   "outputs": [],
   "source": [
    "df.plot(kind = 'barh' , stacked=True)"
   ]
  },
  {
   "cell_type": "code",
   "execution_count": null,
   "id": "6845e51f",
   "metadata": {},
   "outputs": [],
   "source": [
    "df = df.transpose()"
   ]
  },
  {
   "cell_type": "code",
   "execution_count": null,
   "id": "807fc86e",
   "metadata": {},
   "outputs": [],
   "source": [
    "df"
   ]
  },
  {
   "cell_type": "code",
   "execution_count": null,
   "id": "6ff6749f",
   "metadata": {},
   "outputs": [],
   "source": [
    "DF = df.div(df.sum(axis=1), axis=0)*100\n",
    "DF"
   ]
  },
  {
   "cell_type": "code",
   "execution_count": null,
   "id": "ad0472b5",
   "metadata": {},
   "outputs": [],
   "source": [
    "DF.plot(kind='barh',\n",
    "    edgecolor='green', stacked = True)\n",
    "plt.legend(mycode, bbox_to_anchor = (1.05, 1))\n",
    "plt.title('Sentiment Analysis')\n",
    "plt.ylabel('Sentiment Aspects')\n",
    "plt.xlabel('Cumulative Percent')\n",
    "plt.show()"
   ]
  },
  {
   "cell_type": "code",
   "execution_count": null,
   "id": "5f21a947",
   "metadata": {
    "scrolled": false
   },
   "outputs": [],
   "source": [
    "DF.plot(kind='barh' , stacked = True)\n",
    "plt.legend(df, bbox_to_anchor = (1.05, 1))\n",
    "plt.title('Sentiment Analysis')\n",
    "plt.ylabel('Sentiment Aspects')\n",
    "plt.xlabel('Cumulative Percent')\n",
    "plt.show()"
   ]
  },
  {
   "cell_type": "code",
   "execution_count": null,
   "id": "48abf0fa",
   "metadata": {},
   "outputs": [],
   "source": [
    "sns.pairplot(DF)"
   ]
  },
  {
   "cell_type": "code",
   "execution_count": null,
   "id": "8e1afd44",
   "metadata": {},
   "outputs": [],
   "source": []
  },
  {
   "cell_type": "code",
   "execution_count": null,
   "id": "f57adc71",
   "metadata": {},
   "outputs": [],
   "source": [
    "##"
   ]
  },
  {
   "cell_type": "code",
   "execution_count": null,
   "id": "0bbb749e",
   "metadata": {},
   "outputs": [],
   "source": [
    "df[(df['Designation Coding'] == 'A')].value_counts().sum()"
   ]
  },
  {
   "cell_type": "code",
   "execution_count": null,
   "id": "16eecfff",
   "metadata": {},
   "outputs": [],
   "source": [
    "df[(df['Designation Coding'] == 'B')].value_counts().sum()"
   ]
  },
  {
   "cell_type": "code",
   "execution_count": null,
   "id": "7888383c",
   "metadata": {},
   "outputs": [],
   "source": [
    "df[(df['Designation Coding'] == 'C')].value_counts().sum()"
   ]
  },
  {
   "cell_type": "code",
   "execution_count": null,
   "id": "5d206bf3",
   "metadata": {},
   "outputs": [],
   "source": [
    "df[(df['Designation Coding'] == 'D')].value_counts().sum()"
   ]
  },
  {
   "cell_type": "code",
   "execution_count": null,
   "id": "296f15bf",
   "metadata": {},
   "outputs": [],
   "source": [
    "##"
   ]
  },
  {
   "cell_type": "code",
   "execution_count": null,
   "id": "adaada90",
   "metadata": {},
   "outputs": [],
   "source": [
    "df[(df['Department Coding'] == 'SS')].value_counts().sum()"
   ]
  },
  {
   "cell_type": "code",
   "execution_count": null,
   "id": "a4b01024",
   "metadata": {},
   "outputs": [],
   "source": [
    "df[(df['Department Coding'] == 'SCM')].value_counts().sum()"
   ]
  },
  {
   "cell_type": "code",
   "execution_count": null,
   "id": "d7dc4289",
   "metadata": {},
   "outputs": [],
   "source": [
    "df[(df['Department Coding'] == 'IS')].value_counts().sum()"
   ]
  },
  {
   "cell_type": "code",
   "execution_count": null,
   "id": "4db0c88e",
   "metadata": {},
   "outputs": [],
   "source": [
    "df[(df['Department Coding'] == 'MKT')].value_counts().sum()"
   ]
  },
  {
   "cell_type": "code",
   "execution_count": null,
   "id": "b14abc90",
   "metadata": {},
   "outputs": [],
   "source": [
    "df[(df['Department Coding'] == 'FA')].value_counts().sum()"
   ]
  },
  {
   "cell_type": "code",
   "execution_count": null,
   "id": "05e21f2a",
   "metadata": {},
   "outputs": [],
   "source": [
    "df[(df['Department Coding'] == 'EORD')].value_counts().sum()"
   ]
  },
  {
   "cell_type": "code",
   "execution_count": null,
   "id": "0bc71e2e",
   "metadata": {},
   "outputs": [],
   "source": [
    "##Time to get some insights"
   ]
  },
  {
   "cell_type": "code",
   "execution_count": null,
   "id": "a6b56da0",
   "metadata": {},
   "outputs": [],
   "source": [
    "DF.head(5)"
   ]
  },
  {
   "cell_type": "code",
   "execution_count": null,
   "id": "d893d5a5",
   "metadata": {
    "scrolled": true
   },
   "outputs": [],
   "source": [
    "sns.factorplot(x=\"Organization Leadership & Planning\",data=df,hue=\"Department Coding\",row=\"Designation Coding\",kind= barh\n",
    "            )\n",
    "plt.show()"
   ]
  },
  {
   "cell_type": "code",
   "execution_count": null,
   "id": "148ecb25",
   "metadata": {},
   "outputs": [],
   "source": []
  },
  {
   "cell_type": "code",
   "execution_count": null,
   "id": "b872b5a2",
   "metadata": {},
   "outputs": [],
   "source": []
  },
  {
   "cell_type": "code",
   "execution_count": null,
   "id": "f60cc910",
   "metadata": {},
   "outputs": [],
   "source": []
  },
  {
   "cell_type": "code",
   "execution_count": null,
   "id": "746a4c26",
   "metadata": {},
   "outputs": [],
   "source": []
  },
  {
   "cell_type": "code",
   "execution_count": null,
   "id": "8698cfba",
   "metadata": {},
   "outputs": [],
   "source": []
  },
  {
   "cell_type": "code",
   "execution_count": null,
   "id": "6f70988c",
   "metadata": {},
   "outputs": [],
   "source": [
    "'--allow-chromium-download'"
   ]
  },
  {
   "cell_type": "code",
   "execution_count": null,
   "id": "c37e7cc9",
   "metadata": {},
   "outputs": [],
   "source": []
  },
  {
   "cell_type": "code",
   "execution_count": null,
   "id": "ee848c43",
   "metadata": {},
   "outputs": [],
   "source": []
  },
  {
   "cell_type": "code",
   "execution_count": null,
   "id": "abfe6f9c",
   "metadata": {},
   "outputs": [],
   "source": []
  },
  {
   "cell_type": "code",
   "execution_count": null,
   "id": "b5a1f9e8",
   "metadata": {},
   "outputs": [],
   "source": []
  }
 ],
 "metadata": {
  "kernelspec": {
   "display_name": "Python 3 (ipykernel)",
   "language": "python",
   "name": "python3"
  },
  "language_info": {
   "codemirror_mode": {
    "name": "ipython",
    "version": 3
   },
   "file_extension": ".py",
   "mimetype": "text/x-python",
   "name": "python",
   "nbconvert_exporter": "python",
   "pygments_lexer": "ipython3",
   "version": "3.9.6"
  }
 },
 "nbformat": 4,
 "nbformat_minor": 5
}
